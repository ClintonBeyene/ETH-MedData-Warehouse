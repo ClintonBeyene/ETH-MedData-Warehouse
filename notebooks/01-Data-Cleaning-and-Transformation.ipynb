{
 "cells": [
  {
   "cell_type": "markdown",
   "metadata": {},
   "source": [
    "# Data Cleaning and Transformation"
   ]
  },
  {
   "cell_type": "markdown",
   "metadata": {},
   "source": [
    "Import Necessarry libraries"
   ]
  },
  {
   "cell_type": "code",
   "execution_count": 34,
   "metadata": {},
   "outputs": [],
   "source": [
    "# Data Manipulation\n",
    "import numpy as np\n",
    "import pandas as pd\n",
    "\n",
    "# Visualization \n",
    "import matplotlib.pyplot as plt\n",
    "import seaborn as sns \n",
    "from wordcloud import WordCloud\n",
    "\n",
    "# Text Processing \n",
    "import re \n",
    "import string"
   ]
  },
  {
   "cell_type": "code",
   "execution_count": 35,
   "metadata": {},
   "outputs": [],
   "source": [
    "# Find main working directories\n",
    "import sys\n",
    "import os\n",
    "sys.path.append(os.path.join(os.path.abspath('..')))"
   ]
  },
  {
   "cell_type": "code",
   "execution_count": 36,
   "metadata": {},
   "outputs": [],
   "source": [
    "import scripts.data_preprocessing as dp"
   ]
  },
  {
   "cell_type": "markdown",
   "metadata": {},
   "source": [
    "### Data Loading"
   ]
  },
  {
   "cell_type": "code",
   "execution_count": 37,
   "metadata": {},
   "outputs": [],
   "source": [
    "df = pd.read_csv('../data/raw/lobelia4cosmetics_data.csv')"
   ]
  },
  {
   "cell_type": "code",
   "execution_count": 38,
   "metadata": {},
   "outputs": [
    {
     "data": {
      "text/html": [
       "<div>\n",
       "<style scoped>\n",
       "    .dataframe tbody tr th:only-of-type {\n",
       "        vertical-align: middle;\n",
       "    }\n",
       "\n",
       "    .dataframe tbody tr th {\n",
       "        vertical-align: top;\n",
       "    }\n",
       "\n",
       "    .dataframe thead th {\n",
       "        text-align: right;\n",
       "    }\n",
       "</style>\n",
       "<table border=\"1\" class=\"dataframe\">\n",
       "  <thead>\n",
       "    <tr style=\"text-align: right;\">\n",
       "      <th></th>\n",
       "      <th>Channel Title</th>\n",
       "      <th>Channel Username</th>\n",
       "      <th>ID</th>\n",
       "      <th>Message</th>\n",
       "      <th>Date</th>\n",
       "      <th>Media Path</th>\n",
       "    </tr>\n",
       "  </thead>\n",
       "  <tbody>\n",
       "    <tr>\n",
       "      <th>1503</th>\n",
       "      <td>Lobelia pharmacy and cosmetics</td>\n",
       "      <td>@lobelia4cosmetics</td>\n",
       "      <td>10883</td>\n",
       "      <td>Wellbaby multivitamin drop \\r\\nPrice 3000 birr...</td>\n",
       "      <td>2024-08-07 17:01:00+00:00</td>\n",
       "      <td>photos\\@lobelia4cosmetics_10883.jpg</td>\n",
       "    </tr>\n",
       "  </tbody>\n",
       "</table>\n",
       "</div>"
      ],
      "text/plain": [
       "                       Channel Title    Channel Username     ID  \\\n",
       "1503  Lobelia pharmacy and cosmetics  @lobelia4cosmetics  10883   \n",
       "\n",
       "                                                Message  \\\n",
       "1503  Wellbaby multivitamin drop \\r\\nPrice 3000 birr...   \n",
       "\n",
       "                           Date                           Media Path  \n",
       "1503  2024-08-07 17:01:00+00:00  photos\\@lobelia4cosmetics_10883.jpg  "
      ]
     },
     "execution_count": 38,
     "metadata": {},
     "output_type": "execute_result"
    }
   ],
   "source": [
    "df.sample()"
   ]
  },
  {
   "cell_type": "markdown",
   "metadata": {},
   "source": [
    "#### 1. Data Cleaning"
   ]
  },
  {
   "cell_type": "markdown",
   "metadata": {},
   "source": [
    "#### Explore the Data"
   ]
  },
  {
   "cell_type": "code",
   "execution_count": 10,
   "metadata": {},
   "outputs": [
    {
     "data": {
      "text/plain": [
       "(2332, 6)"
      ]
     },
     "execution_count": 10,
     "metadata": {},
     "output_type": "execute_result"
    }
   ],
   "source": [
    "# Structure of the data\n",
    "df.shape"
   ]
  },
  {
   "cell_type": "code",
   "execution_count": 11,
   "metadata": {},
   "outputs": [
    {
     "name": "stdout",
     "output_type": "stream",
     "text": [
      "<class 'pandas.core.frame.DataFrame'>\n",
      "RangeIndex: 2332 entries, 0 to 2331\n",
      "Data columns (total 6 columns):\n",
      " #   Column            Non-Null Count  Dtype \n",
      "---  ------            --------------  ----- \n",
      " 0   Channel Title     2332 non-null   object\n",
      " 1   Channel Username  2332 non-null   object\n",
      " 2   ID                2332 non-null   int64 \n",
      " 3   Message           2243 non-null   object\n",
      " 4   Date              2332 non-null   object\n",
      " 5   Media Path        2330 non-null   object\n",
      "dtypes: int64(1), object(5)\n",
      "memory usage: 109.4+ KB\n"
     ]
    }
   ],
   "source": [
    "# Data info\n",
    "df.info()"
   ]
  },
  {
   "cell_type": "markdown",
   "metadata": {},
   "source": [
    "##### 1.1 Removing Duplicates"
   ]
  },
  {
   "cell_type": "code",
   "execution_count": 12,
   "metadata": {},
   "outputs": [
    {
     "data": {
      "text/plain": [
       "np.int64(0)"
      ]
     },
     "execution_count": 12,
     "metadata": {},
     "output_type": "execute_result"
    }
   ],
   "source": [
    "# Check Duplicated\n",
    "df.duplicated().sum()"
   ]
  },
  {
   "cell_type": "markdown",
   "metadata": {},
   "source": [
    "##### 1.2 Handling Missing Values\n",
    "We can use the pandas library to check for missing values in the data."
   ]
  },
  {
   "cell_type": "code",
   "execution_count": 13,
   "metadata": {},
   "outputs": [
    {
     "name": "stdout",
     "output_type": "stream",
     "text": [
      "Channel Title        0\n",
      "Channel Username     0\n",
      "ID                   0\n",
      "Message             89\n",
      "Date                 0\n",
      "Media Path           2\n",
      "dtype: int64\n"
     ]
    }
   ],
   "source": [
    "# Check for missing values\n",
    "print(df.isnull().sum())"
   ]
  },
  {
   "cell_type": "code",
   "execution_count": 14,
   "metadata": {},
   "outputs": [],
   "source": [
    "# Drop Missing values\n",
    "df.dropna(inplace=True)"
   ]
  },
  {
   "cell_type": "markdown",
   "metadata": {},
   "source": [
    "##### 1.3 Standardizing Formats\n",
    "We can use the pandas library to standardize the formats of the data. For example, we can convert the date column to a standard date format."
   ]
  },
  {
   "cell_type": "code",
   "execution_count": 15,
   "metadata": {},
   "outputs": [],
   "source": [
    "# Convert the date column to a standard date format\n",
    "df['Date'] = pd.to_datetime(df['Date'])"
   ]
  },
  {
   "cell_type": "markdown",
   "metadata": {},
   "source": [
    "##### 1.4 Data Validation\n",
    "We can use the pandas library to validate the data. For example, we can check if the ID column contains only unique values."
   ]
  },
  {
   "cell_type": "code",
   "execution_count": 16,
   "metadata": {},
   "outputs": [
    {
     "name": "stdout",
     "output_type": "stream",
     "text": [
      "True\n"
     ]
    }
   ],
   "source": [
    "# Check if the ID column contains only unique values\n",
    "print(df['ID'].nunique() == len(df))"
   ]
  },
  {
   "cell_type": "markdown",
   "metadata": {},
   "source": [
    "##### 2. Data Transformation"
   ]
  },
  {
   "cell_type": "code",
   "execution_count": 17,
   "metadata": {},
   "outputs": [],
   "source": [
    "# Lowecase the message column\n",
    "df['Message'] = df['Message'].apply(lambda x: x.lower())"
   ]
  },
  {
   "cell_type": "markdown",
   "metadata": {},
   "source": [
    "##### 2.1 Extracting Product Name:\n",
    " Use this concept when you need to extract the name of a product from a given message. This can be useful when you need to identify the product being sold or promoted.\n",
    "##### 2.2 Extracting Weight: \n",
    "Use this concept when you need to extract the weight of a product from a given message. This can be useful when you need to calculate shipping costs or determine the quantity of a product."
   ]
  },
  {
   "cell_type": "code",
   "execution_count": 18,
   "metadata": {},
   "outputs": [],
   "source": [
    "# Apply the function and create new columns\n",
    "df[['Product_Name', 'Weight']] = df['Message'].apply(lambda x: pd.Series(dp.extract_product_name(x)))"
   ]
  },
  {
   "cell_type": "code",
   "execution_count": 19,
   "metadata": {},
   "outputs": [
    {
     "data": {
      "text/html": [
       "<div>\n",
       "<style scoped>\n",
       "    .dataframe tbody tr th:only-of-type {\n",
       "        vertical-align: middle;\n",
       "    }\n",
       "\n",
       "    .dataframe tbody tr th {\n",
       "        vertical-align: top;\n",
       "    }\n",
       "\n",
       "    .dataframe thead th {\n",
       "        text-align: right;\n",
       "    }\n",
       "</style>\n",
       "<table border=\"1\" class=\"dataframe\">\n",
       "  <thead>\n",
       "    <tr style=\"text-align: right;\">\n",
       "      <th></th>\n",
       "      <th>Channel Title</th>\n",
       "      <th>Channel Username</th>\n",
       "      <th>ID</th>\n",
       "      <th>Message</th>\n",
       "      <th>Date</th>\n",
       "      <th>Media Path</th>\n",
       "      <th>Product_Name</th>\n",
       "      <th>Weight</th>\n",
       "    </tr>\n",
       "  </thead>\n",
       "  <tbody>\n",
       "    <tr>\n",
       "      <th>164</th>\n",
       "      <td>Lobelia pharmacy and cosmetics</td>\n",
       "      <td>@lobelia4cosmetics</td>\n",
       "      <td>12257</td>\n",
       "      <td>nido usa 2.2kg\\r\\nprice 5900 birr \\r\\ntelegram...</td>\n",
       "      <td>2024-10-06 05:22:55+00:00</td>\n",
       "      <td>photos\\@lobelia4cosmetics_12257.jpg</td>\n",
       "      <td>nido usa</td>\n",
       "      <td>2.2kg</td>\n",
       "    </tr>\n",
       "    <tr>\n",
       "      <th>930</th>\n",
       "      <td>Lobelia pharmacy and cosmetics</td>\n",
       "      <td>@lobelia4cosmetics</td>\n",
       "      <td>11469</td>\n",
       "      <td>enfamil neuro 565gm \\r\\nprice 5500 birr \\r\\nte...</td>\n",
       "      <td>2024-08-26 06:41:31+00:00</td>\n",
       "      <td>photos\\@lobelia4cosmetics_11469.jpg</td>\n",
       "      <td>enfamil neuro m</td>\n",
       "      <td>565g</td>\n",
       "    </tr>\n",
       "    <tr>\n",
       "      <th>892</th>\n",
       "      <td>Lobelia pharmacy and cosmetics</td>\n",
       "      <td>@lobelia4cosmetics</td>\n",
       "      <td>11509</td>\n",
       "      <td>pregnacare breastfeeding 84 tablets \\r\\nprice ...</td>\n",
       "      <td>2024-08-28 09:49:35+00:00</td>\n",
       "      <td>photos\\@lobelia4cosmetics_11509.jpg</td>\n",
       "      <td>pregnacare breastfeeding 84 tablets</td>\n",
       "      <td>None</td>\n",
       "    </tr>\n",
       "  </tbody>\n",
       "</table>\n",
       "</div>"
      ],
      "text/plain": [
       "                      Channel Title    Channel Username     ID  \\\n",
       "164  Lobelia pharmacy and cosmetics  @lobelia4cosmetics  12257   \n",
       "930  Lobelia pharmacy and cosmetics  @lobelia4cosmetics  11469   \n",
       "892  Lobelia pharmacy and cosmetics  @lobelia4cosmetics  11509   \n",
       "\n",
       "                                               Message  \\\n",
       "164  nido usa 2.2kg\\r\\nprice 5900 birr \\r\\ntelegram...   \n",
       "930  enfamil neuro 565gm \\r\\nprice 5500 birr \\r\\nte...   \n",
       "892  pregnacare breastfeeding 84 tablets \\r\\nprice ...   \n",
       "\n",
       "                         Date                           Media Path  \\\n",
       "164 2024-10-06 05:22:55+00:00  photos\\@lobelia4cosmetics_12257.jpg   \n",
       "930 2024-08-26 06:41:31+00:00  photos\\@lobelia4cosmetics_11469.jpg   \n",
       "892 2024-08-28 09:49:35+00:00  photos\\@lobelia4cosmetics_11509.jpg   \n",
       "\n",
       "                            Product_Name Weight  \n",
       "164                             nido usa  2.2kg  \n",
       "930                      enfamil neuro m   565g  \n",
       "892  pregnacare breastfeeding 84 tablets   None  "
      ]
     },
     "execution_count": 19,
     "metadata": {},
     "output_type": "execute_result"
    }
   ],
   "source": [
    "df.sample(3)"
   ]
  },
  {
   "cell_type": "markdown",
   "metadata": {},
   "source": [
    "##### 2.3 Extracting Price: \n",
    "Use this concept when you need to extract the price of a product from a given message. This can be useful when you need to calculate the total cost of a purchase or compare prices between different sellers."
   ]
  },
  {
   "cell_type": "code",
   "execution_count": 20,
   "metadata": {},
   "outputs": [],
   "source": [
    "# Apply the extraction function to the 'Message' column\n",
    "df['Price'] = df['Message'].apply(dp.extract_price)"
   ]
  },
  {
   "cell_type": "code",
   "execution_count": 21,
   "metadata": {},
   "outputs": [
    {
     "data": {
      "text/html": [
       "<div>\n",
       "<style scoped>\n",
       "    .dataframe tbody tr th:only-of-type {\n",
       "        vertical-align: middle;\n",
       "    }\n",
       "\n",
       "    .dataframe tbody tr th {\n",
       "        vertical-align: top;\n",
       "    }\n",
       "\n",
       "    .dataframe thead th {\n",
       "        text-align: right;\n",
       "    }\n",
       "</style>\n",
       "<table border=\"1\" class=\"dataframe\">\n",
       "  <thead>\n",
       "    <tr style=\"text-align: right;\">\n",
       "      <th></th>\n",
       "      <th>Channel Title</th>\n",
       "      <th>Channel Username</th>\n",
       "      <th>ID</th>\n",
       "      <th>Message</th>\n",
       "      <th>Date</th>\n",
       "      <th>Media Path</th>\n",
       "      <th>Product_Name</th>\n",
       "      <th>Weight</th>\n",
       "      <th>Price</th>\n",
       "    </tr>\n",
       "  </thead>\n",
       "  <tbody>\n",
       "    <tr>\n",
       "      <th>426</th>\n",
       "      <td>Lobelia pharmacy and cosmetics</td>\n",
       "      <td>@lobelia4cosmetics</td>\n",
       "      <td>11981</td>\n",
       "      <td>neutrogena rapid tone repair \\r\\nprice 3000 bi...</td>\n",
       "      <td>2024-09-20 13:48:49+00:00</td>\n",
       "      <td>photos\\@lobelia4cosmetics_11981.jpg</td>\n",
       "      <td>neutrogena rapid tone repair</td>\n",
       "      <td>None</td>\n",
       "      <td>3000</td>\n",
       "    </tr>\n",
       "    <tr>\n",
       "      <th>330</th>\n",
       "      <td>Lobelia pharmacy and cosmetics</td>\n",
       "      <td>@lobelia4cosmetics</td>\n",
       "      <td>12079</td>\n",
       "      <td>day and night quil /super c\\r\\nprice 2500 birr...</td>\n",
       "      <td>2024-09-25 06:13:13+00:00</td>\n",
       "      <td>photos\\@lobelia4cosmetics_12079.jpg</td>\n",
       "      <td>day and night quil /super c</td>\n",
       "      <td>None</td>\n",
       "      <td>2500</td>\n",
       "    </tr>\n",
       "    <tr>\n",
       "      <th>1793</th>\n",
       "      <td>Lobelia pharmacy and cosmetics</td>\n",
       "      <td>@lobelia4cosmetics</td>\n",
       "      <td>10586</td>\n",
       "      <td>lindor 900 gm\\r\\nprice 5000 birr \\r\\ntelegram ...</td>\n",
       "      <td>2024-07-28 07:38:09+00:00</td>\n",
       "      <td>photos\\@lobelia4cosmetics_10586.jpg</td>\n",
       "      <td>lindor 900 gm</td>\n",
       "      <td>None</td>\n",
       "      <td>5000</td>\n",
       "    </tr>\n",
       "  </tbody>\n",
       "</table>\n",
       "</div>"
      ],
      "text/plain": [
       "                       Channel Title    Channel Username     ID  \\\n",
       "426   Lobelia pharmacy and cosmetics  @lobelia4cosmetics  11981   \n",
       "330   Lobelia pharmacy and cosmetics  @lobelia4cosmetics  12079   \n",
       "1793  Lobelia pharmacy and cosmetics  @lobelia4cosmetics  10586   \n",
       "\n",
       "                                                Message  \\\n",
       "426   neutrogena rapid tone repair \\r\\nprice 3000 bi...   \n",
       "330   day and night quil /super c\\r\\nprice 2500 birr...   \n",
       "1793  lindor 900 gm\\r\\nprice 5000 birr \\r\\ntelegram ...   \n",
       "\n",
       "                          Date                           Media Path  \\\n",
       "426  2024-09-20 13:48:49+00:00  photos\\@lobelia4cosmetics_11981.jpg   \n",
       "330  2024-09-25 06:13:13+00:00  photos\\@lobelia4cosmetics_12079.jpg   \n",
       "1793 2024-07-28 07:38:09+00:00  photos\\@lobelia4cosmetics_10586.jpg   \n",
       "\n",
       "                      Product_Name Weight Price  \n",
       "426   neutrogena rapid tone repair   None  3000  \n",
       "330    day and night quil /super c   None  2500  \n",
       "1793                 lindor 900 gm   None  5000  "
      ]
     },
     "execution_count": 21,
     "metadata": {},
     "output_type": "execute_result"
    }
   ],
   "source": [
    "df.sample(3)"
   ]
  },
  {
   "cell_type": "markdown",
   "metadata": {},
   "source": [
    "##### 2.4 Telegram Address: \n",
    "We can use regular expressions to extract the Telegram address from the message column. For example, we can look for strings that start with \"https://t.me/\"."
   ]
  },
  {
   "cell_type": "code",
   "execution_count": 22,
   "metadata": {},
   "outputs": [],
   "source": [
    "# Apply the extraction function to the 'Message' column\n",
    "df['Telegram Address'] = df['Message'].apply(lambda x: pd.Series(dp.extract_telegram_address(x)))\n"
   ]
  },
  {
   "cell_type": "code",
   "execution_count": 23,
   "metadata": {},
   "outputs": [
    {
     "data": {
      "text/html": [
       "<div>\n",
       "<style scoped>\n",
       "    .dataframe tbody tr th:only-of-type {\n",
       "        vertical-align: middle;\n",
       "    }\n",
       "\n",
       "    .dataframe tbody tr th {\n",
       "        vertical-align: top;\n",
       "    }\n",
       "\n",
       "    .dataframe thead th {\n",
       "        text-align: right;\n",
       "    }\n",
       "</style>\n",
       "<table border=\"1\" class=\"dataframe\">\n",
       "  <thead>\n",
       "    <tr style=\"text-align: right;\">\n",
       "      <th></th>\n",
       "      <th>Channel Title</th>\n",
       "      <th>Channel Username</th>\n",
       "      <th>ID</th>\n",
       "      <th>Message</th>\n",
       "      <th>Date</th>\n",
       "      <th>Media Path</th>\n",
       "      <th>Product_Name</th>\n",
       "      <th>Weight</th>\n",
       "      <th>Price</th>\n",
       "      <th>Telegram Address</th>\n",
       "    </tr>\n",
       "  </thead>\n",
       "  <tbody>\n",
       "    <tr>\n",
       "      <th>883</th>\n",
       "      <td>Lobelia pharmacy and cosmetics</td>\n",
       "      <td>@lobelia4cosmetics</td>\n",
       "      <td>11518</td>\n",
       "      <td>thylanol 225 caplets\\r\\nprice 4000 birr \\r\\nte...</td>\n",
       "      <td>2024-08-28 09:49:36+00:00</td>\n",
       "      <td>photos\\@lobelia4cosmetics_11518.jpg</td>\n",
       "      <td>thylanol 225 caplets</td>\n",
       "      <td>None</td>\n",
       "      <td>4000</td>\n",
       "      <td>https://t.me/lobelia4cosmetics</td>\n",
       "    </tr>\n",
       "  </tbody>\n",
       "</table>\n",
       "</div>"
      ],
      "text/plain": [
       "                      Channel Title    Channel Username     ID  \\\n",
       "883  Lobelia pharmacy and cosmetics  @lobelia4cosmetics  11518   \n",
       "\n",
       "                                               Message  \\\n",
       "883  thylanol 225 caplets\\r\\nprice 4000 birr \\r\\nte...   \n",
       "\n",
       "                         Date                           Media Path  \\\n",
       "883 2024-08-28 09:49:36+00:00  photos\\@lobelia4cosmetics_11518.jpg   \n",
       "\n",
       "             Product_Name Weight Price                Telegram Address  \n",
       "883  thylanol 225 caplets   None  4000  https://t.me/lobelia4cosmetics  "
      ]
     },
     "execution_count": 23,
     "metadata": {},
     "output_type": "execute_result"
    }
   ],
   "source": [
    "df.sample()"
   ]
  },
  {
   "cell_type": "markdown",
   "metadata": {},
   "source": [
    "##### 2.5 Extracting Address: \n",
    "Use this concept when you need to extract an address from a given message. This can be useful when you need to ship a product or provide directions to a physical location."
   ]
  },
  {
   "cell_type": "code",
   "execution_count": 24,
   "metadata": {},
   "outputs": [],
   "source": [
    "# Apply the extraction function to the 'Message' column\n",
    "df['Address'] = df['Message'].apply(lambda x: pd.Series(dp.extract_address(x)))"
   ]
  },
  {
   "cell_type": "code",
   "execution_count": 25,
   "metadata": {},
   "outputs": [
    {
     "data": {
      "text/html": [
       "<div>\n",
       "<style scoped>\n",
       "    .dataframe tbody tr th:only-of-type {\n",
       "        vertical-align: middle;\n",
       "    }\n",
       "\n",
       "    .dataframe tbody tr th {\n",
       "        vertical-align: top;\n",
       "    }\n",
       "\n",
       "    .dataframe thead th {\n",
       "        text-align: right;\n",
       "    }\n",
       "</style>\n",
       "<table border=\"1\" class=\"dataframe\">\n",
       "  <thead>\n",
       "    <tr style=\"text-align: right;\">\n",
       "      <th></th>\n",
       "      <th>Channel Title</th>\n",
       "      <th>Channel Username</th>\n",
       "      <th>ID</th>\n",
       "      <th>Message</th>\n",
       "      <th>Date</th>\n",
       "      <th>Media Path</th>\n",
       "      <th>Product_Name</th>\n",
       "      <th>Weight</th>\n",
       "      <th>Price</th>\n",
       "      <th>Telegram Address</th>\n",
       "      <th>Address</th>\n",
       "    </tr>\n",
       "  </thead>\n",
       "  <tbody>\n",
       "    <tr>\n",
       "      <th>242</th>\n",
       "      <td>Lobelia pharmacy and cosmetics</td>\n",
       "      <td>@lobelia4cosmetics</td>\n",
       "      <td>12173</td>\n",
       "      <td>day and night quil /super c\\r\\nprice 2500 birr...</td>\n",
       "      <td>2024-10-01 06:11:49+00:00</td>\n",
       "      <td>photos\\@lobelia4cosmetics_12173.jpg</td>\n",
       "      <td>day and night quil /super c</td>\n",
       "      <td>None</td>\n",
       "      <td>2500</td>\n",
       "      <td>https://t.me/lobelia4cosmetics</td>\n",
       "      <td>adress:- infront of bole medhanialem high school</td>\n",
       "    </tr>\n",
       "    <tr>\n",
       "      <th>812</th>\n",
       "      <td>Lobelia pharmacy and cosmetics</td>\n",
       "      <td>@lobelia4cosmetics</td>\n",
       "      <td>11589</td>\n",
       "      <td>mini drops immune plus \\r\\nprice 2800 birr \\r\\...</td>\n",
       "      <td>2024-08-31 06:28:00+00:00</td>\n",
       "      <td>photos\\@lobelia4cosmetics_11589.jpg</td>\n",
       "      <td>mini drops immune plus</td>\n",
       "      <td>None</td>\n",
       "      <td>2800</td>\n",
       "      <td>https://t.me/lobelia4cosmetics</td>\n",
       "      <td>adress:- infront of bole medhanialem high school</td>\n",
       "    </tr>\n",
       "    <tr>\n",
       "      <th>948</th>\n",
       "      <td>Lobelia pharmacy and cosmetics</td>\n",
       "      <td>@lobelia4cosmetics</td>\n",
       "      <td>11451</td>\n",
       "      <td>eucerin pigment control \\r\\nprice 4500 birr \\r...</td>\n",
       "      <td>2024-08-26 06:24:44+00:00</td>\n",
       "      <td>photos\\@lobelia4cosmetics_11451.jpg</td>\n",
       "      <td>eucerin pigment control</td>\n",
       "      <td>None</td>\n",
       "      <td>4500</td>\n",
       "      <td>https://t.me/lobelia4cosmetics</td>\n",
       "      <td>adress:- infront of bole medhanialem high school</td>\n",
       "    </tr>\n",
       "  </tbody>\n",
       "</table>\n",
       "</div>"
      ],
      "text/plain": [
       "                      Channel Title    Channel Username     ID  \\\n",
       "242  Lobelia pharmacy and cosmetics  @lobelia4cosmetics  12173   \n",
       "812  Lobelia pharmacy and cosmetics  @lobelia4cosmetics  11589   \n",
       "948  Lobelia pharmacy and cosmetics  @lobelia4cosmetics  11451   \n",
       "\n",
       "                                               Message  \\\n",
       "242  day and night quil /super c\\r\\nprice 2500 birr...   \n",
       "812  mini drops immune plus \\r\\nprice 2800 birr \\r\\...   \n",
       "948  eucerin pigment control \\r\\nprice 4500 birr \\r...   \n",
       "\n",
       "                         Date                           Media Path  \\\n",
       "242 2024-10-01 06:11:49+00:00  photos\\@lobelia4cosmetics_12173.jpg   \n",
       "812 2024-08-31 06:28:00+00:00  photos\\@lobelia4cosmetics_11589.jpg   \n",
       "948 2024-08-26 06:24:44+00:00  photos\\@lobelia4cosmetics_11451.jpg   \n",
       "\n",
       "                    Product_Name Weight Price                Telegram Address  \\\n",
       "242  day and night quil /super c   None  2500  https://t.me/lobelia4cosmetics   \n",
       "812       mini drops immune plus   None  2800  https://t.me/lobelia4cosmetics   \n",
       "948      eucerin pigment control   None  4500  https://t.me/lobelia4cosmetics   \n",
       "\n",
       "                                              Address  \n",
       "242  adress:- infront of bole medhanialem high school  \n",
       "812  adress:- infront of bole medhanialem high school  \n",
       "948  adress:- infront of bole medhanialem high school  "
      ]
     },
     "execution_count": 25,
     "metadata": {},
     "output_type": "execute_result"
    }
   ],
   "source": [
    "df.sample(3)"
   ]
  },
  {
   "cell_type": "markdown",
   "metadata": {},
   "source": [
    "#### 2.6 Extracting Phone Number: \n",
    "Use this concept when you need to extract a phone number from a given message. This can be useful when you need to contact a customer or seller."
   ]
  },
  {
   "cell_type": "code",
   "execution_count": 26,
   "metadata": {},
   "outputs": [],
   "source": [
    "# Apply the extraction function to the 'Message' column\n",
    "df['Phone Number'] = df['Message'].apply(dp.extract_phone_number)"
   ]
  },
  {
   "cell_type": "code",
   "execution_count": 27,
   "metadata": {},
   "outputs": [
    {
     "data": {
      "text/html": [
       "<div>\n",
       "<style scoped>\n",
       "    .dataframe tbody tr th:only-of-type {\n",
       "        vertical-align: middle;\n",
       "    }\n",
       "\n",
       "    .dataframe tbody tr th {\n",
       "        vertical-align: top;\n",
       "    }\n",
       "\n",
       "    .dataframe thead th {\n",
       "        text-align: right;\n",
       "    }\n",
       "</style>\n",
       "<table border=\"1\" class=\"dataframe\">\n",
       "  <thead>\n",
       "    <tr style=\"text-align: right;\">\n",
       "      <th></th>\n",
       "      <th>Channel Title</th>\n",
       "      <th>Channel Username</th>\n",
       "      <th>ID</th>\n",
       "      <th>Message</th>\n",
       "      <th>Date</th>\n",
       "      <th>Media Path</th>\n",
       "      <th>Product_Name</th>\n",
       "      <th>Weight</th>\n",
       "      <th>Price</th>\n",
       "      <th>Telegram Address</th>\n",
       "      <th>Address</th>\n",
       "      <th>Phone Number</th>\n",
       "    </tr>\n",
       "  </thead>\n",
       "  <tbody>\n",
       "    <tr>\n",
       "      <th>1423</th>\n",
       "      <td>Lobelia pharmacy and cosmetics</td>\n",
       "      <td>@lobelia4cosmetics</td>\n",
       "      <td>10965</td>\n",
       "      <td>chia seeds \\r\\nprice 3000 birr \\r\\ntelegram ht...</td>\n",
       "      <td>2024-08-09 14:12:45+00:00</td>\n",
       "      <td>photos\\@lobelia4cosmetics_10965.jpg</td>\n",
       "      <td>chia seeds</td>\n",
       "      <td>None</td>\n",
       "      <td>3000</td>\n",
       "      <td>https://t.me/lobelia4cosmetics</td>\n",
       "      <td>adress:- infront of bole medhanialem high school</td>\n",
       "      <td>0911562031</td>\n",
       "    </tr>\n",
       "    <tr>\n",
       "      <th>790</th>\n",
       "      <td>Lobelia pharmacy and cosmetics</td>\n",
       "      <td>@lobelia4cosmetics</td>\n",
       "      <td>11611</td>\n",
       "      <td>glycolic acid \\r\\nprice 4000 birr \\r\\ntelegram...</td>\n",
       "      <td>2024-09-02 09:47:24+00:00</td>\n",
       "      <td>photos\\@lobelia4cosmetics_11611.jpg</td>\n",
       "      <td>glycolic acid</td>\n",
       "      <td>None</td>\n",
       "      <td>4000</td>\n",
       "      <td>https://t.me/lobelia4cosmetics</td>\n",
       "      <td>adress:- infront of bole medhanialem high school</td>\n",
       "      <td>0911562031</td>\n",
       "    </tr>\n",
       "    <tr>\n",
       "      <th>2154</th>\n",
       "      <td>Lobelia pharmacy and cosmetics</td>\n",
       "      <td>@lobelia4cosmetics</td>\n",
       "      <td>10218</td>\n",
       "      <td>chocolate \\r\\nprice 300 birr each \\r\\ntelegram...</td>\n",
       "      <td>2024-07-18 13:34:41+00:00</td>\n",
       "      <td>photos\\@lobelia4cosmetics_10218.jpg</td>\n",
       "      <td>chocolate</td>\n",
       "      <td>None</td>\n",
       "      <td>300</td>\n",
       "      <td>https://t.me/lobelia4cosmetics</td>\n",
       "      <td>adress:- infront of bole medhanialem high school</td>\n",
       "      <td>0911562031</td>\n",
       "    </tr>\n",
       "  </tbody>\n",
       "</table>\n",
       "</div>"
      ],
      "text/plain": [
       "                       Channel Title    Channel Username     ID  \\\n",
       "1423  Lobelia pharmacy and cosmetics  @lobelia4cosmetics  10965   \n",
       "790   Lobelia pharmacy and cosmetics  @lobelia4cosmetics  11611   \n",
       "2154  Lobelia pharmacy and cosmetics  @lobelia4cosmetics  10218   \n",
       "\n",
       "                                                Message  \\\n",
       "1423  chia seeds \\r\\nprice 3000 birr \\r\\ntelegram ht...   \n",
       "790   glycolic acid \\r\\nprice 4000 birr \\r\\ntelegram...   \n",
       "2154  chocolate \\r\\nprice 300 birr each \\r\\ntelegram...   \n",
       "\n",
       "                          Date                           Media Path  \\\n",
       "1423 2024-08-09 14:12:45+00:00  photos\\@lobelia4cosmetics_10965.jpg   \n",
       "790  2024-09-02 09:47:24+00:00  photos\\@lobelia4cosmetics_11611.jpg   \n",
       "2154 2024-07-18 13:34:41+00:00  photos\\@lobelia4cosmetics_10218.jpg   \n",
       "\n",
       "       Product_Name Weight Price                Telegram Address  \\\n",
       "1423     chia seeds   None  3000  https://t.me/lobelia4cosmetics   \n",
       "790   glycolic acid   None  4000  https://t.me/lobelia4cosmetics   \n",
       "2154      chocolate   None   300  https://t.me/lobelia4cosmetics   \n",
       "\n",
       "                                               Address Phone Number  \n",
       "1423  adress:- infront of bole medhanialem high school   0911562031  \n",
       "790   adress:- infront of bole medhanialem high school   0911562031  \n",
       "2154  adress:- infront of bole medhanialem high school   0911562031  "
      ]
     },
     "execution_count": 27,
     "metadata": {},
     "output_type": "execute_result"
    }
   ],
   "source": [
    "df.sample(3)"
   ]
  },
  {
   "cell_type": "markdown",
   "metadata": {},
   "source": [
    "##### 2.7 Extracting Open Day and Time: \n",
    "Use this concept when you need to extract the days and hours of operation for a business. This can be useful when you need to plan a visit or contact a business during their operating hours."
   ]
  },
  {
   "cell_type": "code",
   "execution_count": 28,
   "metadata": {},
   "outputs": [],
   "source": [
    "# Apply the extraction function to the 'Message' column\n",
    "df['Open_Day_and_Time'] = df['Message'].apply(dp.extract_open_day_and_time)"
   ]
  },
  {
   "cell_type": "code",
   "execution_count": 29,
   "metadata": {},
   "outputs": [
    {
     "data": {
      "text/html": [
       "<div>\n",
       "<style scoped>\n",
       "    .dataframe tbody tr th:only-of-type {\n",
       "        vertical-align: middle;\n",
       "    }\n",
       "\n",
       "    .dataframe tbody tr th {\n",
       "        vertical-align: top;\n",
       "    }\n",
       "\n",
       "    .dataframe thead th {\n",
       "        text-align: right;\n",
       "    }\n",
       "</style>\n",
       "<table border=\"1\" class=\"dataframe\">\n",
       "  <thead>\n",
       "    <tr style=\"text-align: right;\">\n",
       "      <th></th>\n",
       "      <th>Channel Title</th>\n",
       "      <th>Channel Username</th>\n",
       "      <th>ID</th>\n",
       "      <th>Message</th>\n",
       "      <th>Date</th>\n",
       "      <th>Media Path</th>\n",
       "      <th>Product_Name</th>\n",
       "      <th>Weight</th>\n",
       "      <th>Price</th>\n",
       "      <th>Telegram Address</th>\n",
       "      <th>Address</th>\n",
       "      <th>Phone Number</th>\n",
       "      <th>Open_Day_and_Time</th>\n",
       "    </tr>\n",
       "  </thead>\n",
       "  <tbody>\n",
       "    <tr>\n",
       "      <th>192</th>\n",
       "      <td>Lobelia pharmacy and cosmetics</td>\n",
       "      <td>@lobelia4cosmetics</td>\n",
       "      <td>12225</td>\n",
       "      <td>suave kids wash \\r\\nprice 3200 birr \\r\\ntelegr...</td>\n",
       "      <td>2024-10-04 13:16:12+00:00</td>\n",
       "      <td>photos\\@lobelia4cosmetics_12225.jpg</td>\n",
       "      <td>suave kids wash</td>\n",
       "      <td>None</td>\n",
       "      <td>3200</td>\n",
       "      <td>https://t.me/lobelia4cosmetics</td>\n",
       "      <td>adress:- infront of bole medhanialem high school</td>\n",
       "      <td>0911562031</td>\n",
       "      <td>open monday - monday from 8am until midnight ከ...</td>\n",
       "    </tr>\n",
       "    <tr>\n",
       "      <th>...</th>\n",
       "      <td>...</td>\n",
       "      <td>...</td>\n",
       "      <td>...</td>\n",
       "      <td>...</td>\n",
       "      <td>...</td>\n",
       "      <td>...</td>\n",
       "      <td>...</td>\n",
       "      <td>...</td>\n",
       "      <td>...</td>\n",
       "      <td>...</td>\n",
       "      <td>...</td>\n",
       "      <td>...</td>\n",
       "      <td>...</td>\n",
       "    </tr>\n",
       "    <tr>\n",
       "      <th>2055</th>\n",
       "      <td>Lobelia pharmacy and cosmetics</td>\n",
       "      <td>@lobelia4cosmetics</td>\n",
       "      <td>10319</td>\n",
       "      <td>nido usa 2.2kg\\r\\nprice 5900 birr \\r\\ntelegram...</td>\n",
       "      <td>2024-07-20 13:36:07+00:00</td>\n",
       "      <td>photos\\@lobelia4cosmetics_10319.jpg</td>\n",
       "      <td>nido usa</td>\n",
       "      <td>2.2kg</td>\n",
       "      <td>5900</td>\n",
       "      <td>https://t.me/lobelia4cosmetics</td>\n",
       "      <td>adress:- infront of bole medhanialem high school</td>\n",
       "      <td>0911562031</td>\n",
       "      <td>open monday - monday from 8am until midnight ከ...</td>\n",
       "    </tr>\n",
       "  </tbody>\n",
       "</table>\n",
       "<p>5 rows × 13 columns</p>\n",
       "</div>"
      ],
      "text/plain": [
       "                       Channel Title    Channel Username     ID  \\\n",
       "192   Lobelia pharmacy and cosmetics  @lobelia4cosmetics  12225   \n",
       "...                              ...                 ...    ...   \n",
       "2055  Lobelia pharmacy and cosmetics  @lobelia4cosmetics  10319   \n",
       "\n",
       "                                                Message  \\\n",
       "192   suave kids wash \\r\\nprice 3200 birr \\r\\ntelegr...   \n",
       "...                                                 ...   \n",
       "2055  nido usa 2.2kg\\r\\nprice 5900 birr \\r\\ntelegram...   \n",
       "\n",
       "                          Date                           Media Path  \\\n",
       "192  2024-10-04 13:16:12+00:00  photos\\@lobelia4cosmetics_12225.jpg   \n",
       "...                        ...                                  ...   \n",
       "2055 2024-07-20 13:36:07+00:00  photos\\@lobelia4cosmetics_10319.jpg   \n",
       "\n",
       "         Product_Name Weight Price                Telegram Address  \\\n",
       "192   suave kids wash   None  3200  https://t.me/lobelia4cosmetics   \n",
       "...               ...    ...   ...                             ...   \n",
       "2055         nido usa  2.2kg  5900  https://t.me/lobelia4cosmetics   \n",
       "\n",
       "                                               Address Phone Number  \\\n",
       "192   adress:- infront of bole medhanialem high school   0911562031   \n",
       "...                                                ...          ...   \n",
       "2055  adress:- infront of bole medhanialem high school   0911562031   \n",
       "\n",
       "                                      Open_Day_and_Time  \n",
       "192   open monday - monday from 8am until midnight ከ...  \n",
       "...                                                 ...  \n",
       "2055  open monday - monday from 8am until midnight ከ...  \n",
       "\n",
       "[5 rows x 13 columns]"
      ]
     },
     "execution_count": 29,
     "metadata": {},
     "output_type": "execute_result"
    }
   ],
   "source": [
    "# Set display options\n",
    "pd.set_option('display.max_rows', 3)\n",
    "pd.set_option('display.max_columns', None)\n",
    "\n",
    "# Sample 5 rows from the DataFrame\n",
    "df_sample = df.sample(5)\n",
    "df_sample"
   ]
  },
  {
   "cell_type": "markdown",
   "metadata": {},
   "source": [
    "##### 2.8 Extracting Delivery Fee: \n",
    "Use this concept when you need to extract the delivery fee for a product from a given message. This can be useful when you need to calculate the total cost of a purchase or compare delivery fees between different sellers."
   ]
  },
  {
   "cell_type": "code",
   "execution_count": 30,
   "metadata": {},
   "outputs": [],
   "source": [
    "# Apply the extraction function to the 'Message' column\n",
    "df['Delivery Fee'] = df['Message'].apply(lambda x: pd.Series(dp.extract_delivery_fee(x)))"
   ]
  },
  {
   "cell_type": "code",
   "execution_count": 31,
   "metadata": {},
   "outputs": [
    {
     "data": {
      "text/html": [
       "<div>\n",
       "<style scoped>\n",
       "    .dataframe tbody tr th:only-of-type {\n",
       "        vertical-align: middle;\n",
       "    }\n",
       "\n",
       "    .dataframe tbody tr th {\n",
       "        vertical-align: top;\n",
       "    }\n",
       "\n",
       "    .dataframe thead th {\n",
       "        text-align: right;\n",
       "    }\n",
       "</style>\n",
       "<table border=\"1\" class=\"dataframe\">\n",
       "  <thead>\n",
       "    <tr style=\"text-align: right;\">\n",
       "      <th></th>\n",
       "      <th>Channel Title</th>\n",
       "      <th>Channel Username</th>\n",
       "      <th>ID</th>\n",
       "      <th>Message</th>\n",
       "      <th>Date</th>\n",
       "      <th>Media Path</th>\n",
       "      <th>Product_Name</th>\n",
       "      <th>Weight</th>\n",
       "      <th>Price</th>\n",
       "      <th>Telegram Address</th>\n",
       "      <th>Address</th>\n",
       "      <th>Phone Number</th>\n",
       "      <th>Open_Day_and_Time</th>\n",
       "      <th>Delivery Fee</th>\n",
       "    </tr>\n",
       "  </thead>\n",
       "  <tbody>\n",
       "    <tr>\n",
       "      <th>1424</th>\n",
       "      <td>Lobelia pharmacy and cosmetics</td>\n",
       "      <td>@lobelia4cosmetics</td>\n",
       "      <td>10964</td>\n",
       "      <td>roc deep wrinkle \\r\\nprice 6000 birr \\r\\nteleg...</td>\n",
       "      <td>2024-08-09 14:12:45+00:00</td>\n",
       "      <td>photos\\@lobelia4cosmetics_10964.jpg</td>\n",
       "      <td>roc deep wrinkle</td>\n",
       "      <td>None</td>\n",
       "      <td>6000</td>\n",
       "      <td>https://t.me/lobelia4cosmetics</td>\n",
       "      <td>adress:- infront of bole medhanialem high school</td>\n",
       "      <td>0911562031</td>\n",
       "      <td>open monday - monday from 8am until midnight ከ...</td>\n",
       "      <td>70 - 200 birr</td>\n",
       "    </tr>\n",
       "    <tr>\n",
       "      <th>1017</th>\n",
       "      <td>Lobelia pharmacy and cosmetics</td>\n",
       "      <td>@lobelia4cosmetics</td>\n",
       "      <td>11380</td>\n",
       "      <td>chia seeds \\r\\nprice 3000 birr \\r\\ntelegram ht...</td>\n",
       "      <td>2024-08-24 12:40:24+00:00</td>\n",
       "      <td>photos\\@lobelia4cosmetics_11380.jpg</td>\n",
       "      <td>chia seeds</td>\n",
       "      <td>None</td>\n",
       "      <td>3000</td>\n",
       "      <td>https://t.me/lobelia4cosmetics</td>\n",
       "      <td>adress:- infront of bole medhanialem high school</td>\n",
       "      <td>0911562031</td>\n",
       "      <td>open monday - monday from 8am until midnight ከ...</td>\n",
       "      <td>70 - 200 birr</td>\n",
       "    </tr>\n",
       "    <tr>\n",
       "      <th>1496</th>\n",
       "      <td>Lobelia pharmacy and cosmetics</td>\n",
       "      <td>@lobelia4cosmetics</td>\n",
       "      <td>10891</td>\n",
       "      <td>pregnacare breastfeeding 84 tablets \\r\\nprice ...</td>\n",
       "      <td>2024-08-08 12:32:37+00:00</td>\n",
       "      <td>photos\\@lobelia4cosmetics_10891.jpg</td>\n",
       "      <td>pregnacare breastfeeding 84 tablets</td>\n",
       "      <td>None</td>\n",
       "      <td>5000</td>\n",
       "      <td>https://t.me/lobelia4cosmetics</td>\n",
       "      <td>adress:- infront of bole medhanialem high school</td>\n",
       "      <td>0911562031</td>\n",
       "      <td>open monday - monday from 8am until midnight ከ...</td>\n",
       "      <td>70 - 200 birr</td>\n",
       "    </tr>\n",
       "  </tbody>\n",
       "</table>\n",
       "</div>"
      ],
      "text/plain": [
       "                       Channel Title    Channel Username     ID  \\\n",
       "1424  Lobelia pharmacy and cosmetics  @lobelia4cosmetics  10964   \n",
       "1017  Lobelia pharmacy and cosmetics  @lobelia4cosmetics  11380   \n",
       "1496  Lobelia pharmacy and cosmetics  @lobelia4cosmetics  10891   \n",
       "\n",
       "                                                Message  \\\n",
       "1424  roc deep wrinkle \\r\\nprice 6000 birr \\r\\nteleg...   \n",
       "1017  chia seeds \\r\\nprice 3000 birr \\r\\ntelegram ht...   \n",
       "1496  pregnacare breastfeeding 84 tablets \\r\\nprice ...   \n",
       "\n",
       "                          Date                           Media Path  \\\n",
       "1424 2024-08-09 14:12:45+00:00  photos\\@lobelia4cosmetics_10964.jpg   \n",
       "1017 2024-08-24 12:40:24+00:00  photos\\@lobelia4cosmetics_11380.jpg   \n",
       "1496 2024-08-08 12:32:37+00:00  photos\\@lobelia4cosmetics_10891.jpg   \n",
       "\n",
       "                             Product_Name Weight Price  \\\n",
       "1424                     roc deep wrinkle   None  6000   \n",
       "1017                           chia seeds   None  3000   \n",
       "1496  pregnacare breastfeeding 84 tablets   None  5000   \n",
       "\n",
       "                    Telegram Address  \\\n",
       "1424  https://t.me/lobelia4cosmetics   \n",
       "1017  https://t.me/lobelia4cosmetics   \n",
       "1496  https://t.me/lobelia4cosmetics   \n",
       "\n",
       "                                               Address Phone Number  \\\n",
       "1424  adress:- infront of bole medhanialem high school   0911562031   \n",
       "1017  adress:- infront of bole medhanialem high school   0911562031   \n",
       "1496  adress:- infront of bole medhanialem high school   0911562031   \n",
       "\n",
       "                                      Open_Day_and_Time   Delivery Fee  \n",
       "1424  open monday - monday from 8am until midnight ከ...  70 - 200 birr  \n",
       "1017  open monday - monday from 8am until midnight ከ...  70 - 200 birr  \n",
       "1496  open monday - monday from 8am until midnight ከ...  70 - 200 birr  "
      ]
     },
     "execution_count": 31,
     "metadata": {},
     "output_type": "execute_result"
    }
   ],
   "source": [
    "df.sample(3)"
   ]
  },
  {
   "cell_type": "markdown",
   "metadata": {},
   "source": [
    "##### 2.9 Remove Emoji From Message Data "
   ]
  },
  {
   "cell_type": "code",
   "execution_count": 32,
   "metadata": {},
   "outputs": [],
   "source": [
    "df['Message'] = df['Message'].apply(dp.remove_emojis)"
   ]
  },
  {
   "cell_type": "code",
   "execution_count": 33,
   "metadata": {},
   "outputs": [],
   "source": [
    "# Save the preprocessed data to csv file\n",
    "df.to_csv('../data/preprocessed/preprocessed.csv', index=False)"
   ]
  }
 ],
 "metadata": {
  "kernelspec": {
   "display_name": "venv",
   "language": "python",
   "name": "python3"
  },
  "language_info": {
   "codemirror_mode": {
    "name": "ipython",
    "version": 3
   },
   "file_extension": ".py",
   "mimetype": "text/x-python",
   "name": "python",
   "nbconvert_exporter": "python",
   "pygments_lexer": "ipython3",
   "version": "3.12.7"
  }
 },
 "nbformat": 4,
 "nbformat_minor": 2
}
