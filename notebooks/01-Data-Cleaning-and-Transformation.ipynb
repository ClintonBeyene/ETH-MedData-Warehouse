{
 "cells": [
  {
   "cell_type": "markdown",
   "metadata": {},
   "source": [
    "# Data Cleaning and Transformation"
   ]
  },
  {
   "cell_type": "markdown",
   "metadata": {},
   "source": [
    "Import Necessarry libraries"
   ]
  },
  {
   "cell_type": "code",
   "execution_count": 1,
   "metadata": {},
   "outputs": [],
   "source": [
    "# Data Manipulation\n",
    "import numpy as np\n",
    "import pandas as pd\n",
    "\n",
    "# Visualization \n",
    "import matplotlib.pyplot as plt\n",
    "import seaborn as sns \n",
    "from wordcloud import WordCloud\n",
    "\n",
    "# Text Processing \n",
    "import re \n",
    "import string"
   ]
  },
  {
   "cell_type": "code",
   "execution_count": 2,
   "metadata": {},
   "outputs": [],
   "source": [
    "# Find main working directories\n",
    "import sys\n",
    "import os\n",
    "sys.path.append(os.path.join(os.path.abspath('..')))"
   ]
  },
  {
   "cell_type": "code",
   "execution_count": 3,
   "metadata": {},
   "outputs": [],
   "source": [
    "import scripts.data_preprocessing as dp"
   ]
  },
  {
   "cell_type": "markdown",
   "metadata": {},
   "source": [
    "### Data Loading"
   ]
  },
  {
   "cell_type": "code",
   "execution_count": 4,
   "metadata": {},
   "outputs": [],
   "source": [
    "df = pd.read_csv('../lobelia4cosmetics_data.csv')"
   ]
  },
  {
   "cell_type": "code",
   "execution_count": 5,
   "metadata": {},
   "outputs": [
    {
     "data": {
      "text/html": [
       "<div>\n",
       "<style scoped>\n",
       "    .dataframe tbody tr th:only-of-type {\n",
       "        vertical-align: middle;\n",
       "    }\n",
       "\n",
       "    .dataframe tbody tr th {\n",
       "        vertical-align: top;\n",
       "    }\n",
       "\n",
       "    .dataframe thead th {\n",
       "        text-align: right;\n",
       "    }\n",
       "</style>\n",
       "<table border=\"1\" class=\"dataframe\">\n",
       "  <thead>\n",
       "    <tr style=\"text-align: right;\">\n",
       "      <th></th>\n",
       "      <th>Channel Title</th>\n",
       "      <th>Channel Username</th>\n",
       "      <th>ID</th>\n",
       "      <th>Message</th>\n",
       "      <th>Date</th>\n",
       "      <th>Media Path</th>\n",
       "    </tr>\n",
       "  </thead>\n",
       "  <tbody>\n",
       "    <tr>\n",
       "      <th>1462</th>\n",
       "      <td>Lobelia pharmacy and cosmetics</td>\n",
       "      <td>@lobelia4cosmetics</td>\n",
       "      <td>10925</td>\n",
       "      <td>SIMILAC ADVANCE \\nPrice 3700 birr \\nTelegram h...</td>\n",
       "      <td>2024-08-08 13:57:17+00:00</td>\n",
       "      <td>photos\\@lobelia4cosmetics_10925.jpg</td>\n",
       "    </tr>\n",
       "  </tbody>\n",
       "</table>\n",
       "</div>"
      ],
      "text/plain": [
       "                       Channel Title    Channel Username     ID  \\\n",
       "1462  Lobelia pharmacy and cosmetics  @lobelia4cosmetics  10925   \n",
       "\n",
       "                                                Message  \\\n",
       "1462  SIMILAC ADVANCE \\nPrice 3700 birr \\nTelegram h...   \n",
       "\n",
       "                           Date                           Media Path  \n",
       "1462  2024-08-08 13:57:17+00:00  photos\\@lobelia4cosmetics_10925.jpg  "
      ]
     },
     "execution_count": 5,
     "metadata": {},
     "output_type": "execute_result"
    }
   ],
   "source": [
    "df.sample()"
   ]
  },
  {
   "cell_type": "markdown",
   "metadata": {},
   "source": [
    "#### 1. Data Cleaning"
   ]
  },
  {
   "cell_type": "markdown",
   "metadata": {},
   "source": [
    "#### Explore the Data"
   ]
  },
  {
   "cell_type": "code",
   "execution_count": 6,
   "metadata": {},
   "outputs": [
    {
     "data": {
      "text/plain": [
       "(2332, 6)"
      ]
     },
     "execution_count": 6,
     "metadata": {},
     "output_type": "execute_result"
    }
   ],
   "source": [
    "# Structure of the data\n",
    "df.shape"
   ]
  },
  {
   "cell_type": "code",
   "execution_count": 7,
   "metadata": {},
   "outputs": [
    {
     "name": "stdout",
     "output_type": "stream",
     "text": [
      "<class 'pandas.core.frame.DataFrame'>\n",
      "RangeIndex: 2332 entries, 0 to 2331\n",
      "Data columns (total 6 columns):\n",
      " #   Column            Non-Null Count  Dtype \n",
      "---  ------            --------------  ----- \n",
      " 0   Channel Title     2332 non-null   object\n",
      " 1   Channel Username  2332 non-null   object\n",
      " 2   ID                2332 non-null   int64 \n",
      " 3   Message           2243 non-null   object\n",
      " 4   Date              2332 non-null   object\n",
      " 5   Media Path        2330 non-null   object\n",
      "dtypes: int64(1), object(5)\n",
      "memory usage: 109.4+ KB\n"
     ]
    }
   ],
   "source": [
    "# Data info\n",
    "df.info()"
   ]
  },
  {
   "cell_type": "markdown",
   "metadata": {},
   "source": [
    "##### 1.1 Removing Duplicates"
   ]
  },
  {
   "cell_type": "code",
   "execution_count": 30,
   "metadata": {},
   "outputs": [
    {
     "data": {
      "text/plain": [
       "np.int64(0)"
      ]
     },
     "execution_count": 30,
     "metadata": {},
     "output_type": "execute_result"
    }
   ],
   "source": [
    "# Check Duplicated\n",
    "df.duplicated().sum()"
   ]
  },
  {
   "cell_type": "markdown",
   "metadata": {},
   "source": [
    "##### 1.2 Handling Missing Values\n",
    "We can use the pandas library to check for missing values in the data."
   ]
  },
  {
   "cell_type": "code",
   "execution_count": 31,
   "metadata": {},
   "outputs": [
    {
     "name": "stdout",
     "output_type": "stream",
     "text": [
      "Channel Title    0\n",
      "                ..\n",
      "Delivery Fee     2\n",
      "Length: 14, dtype: int64\n"
     ]
    }
   ],
   "source": [
    "# Check for missing values\n",
    "print(df.isnull().sum())"
   ]
  },
  {
   "cell_type": "code",
   "execution_count": 32,
   "metadata": {},
   "outputs": [],
   "source": [
    "# Drop Missing values\n",
    "df.dropna(inplace=True)"
   ]
  },
  {
   "cell_type": "markdown",
   "metadata": {},
   "source": [
    "##### 1.3 Standardizing Formats\n",
    "We can use the pandas library to standardize the formats of the data. For example, we can convert the date column to a standard date format."
   ]
  },
  {
   "cell_type": "code",
   "execution_count": 33,
   "metadata": {},
   "outputs": [],
   "source": [
    "# Convert the date column to a standard date format\n",
    "df['Date'] = pd.to_datetime(df['Date'])"
   ]
  },
  {
   "cell_type": "markdown",
   "metadata": {},
   "source": [
    "##### 1.4 Data Validation\n",
    "We can use the pandas library to validate the data. For example, we can check if the ID column contains only unique values."
   ]
  },
  {
   "cell_type": "code",
   "execution_count": 34,
   "metadata": {},
   "outputs": [
    {
     "name": "stdout",
     "output_type": "stream",
     "text": [
      "True\n"
     ]
    }
   ],
   "source": [
    "# Check if the ID column contains only unique values\n",
    "print(df['ID'].nunique() == len(df))"
   ]
  },
  {
   "cell_type": "markdown",
   "metadata": {},
   "source": [
    "##### 2. Data Transformation"
   ]
  },
  {
   "cell_type": "code",
   "execution_count": 35,
   "metadata": {},
   "outputs": [],
   "source": [
    "# Lowecase the message column\n",
    "df['Message'] = df['Message'].apply(lambda x: x.lower())"
   ]
  },
  {
   "cell_type": "markdown",
   "metadata": {},
   "source": [
    "##### 2.1 Extracting Product Name:\n",
    " Use this concept when you need to extract the name of a product from a given message. This can be useful when you need to identify the product being sold or promoted.\n",
    "##### 2.2 Extracting Weight: \n",
    "Use this concept when you need to extract the weight of a product from a given message. This can be useful when you need to calculate shipping costs or determine the quantity of a product."
   ]
  },
  {
   "cell_type": "code",
   "execution_count": 36,
   "metadata": {},
   "outputs": [],
   "source": [
    "# Apply the function and create new columns\n",
    "df[['Product_Name', 'Weight']] = df['Message'].apply(lambda x: pd.Series(dp.extract_product_name(x)))"
   ]
  },
  {
   "cell_type": "code",
   "execution_count": 37,
   "metadata": {},
   "outputs": [
    {
     "data": {
      "text/html": [
       "<div>\n",
       "<style scoped>\n",
       "    .dataframe tbody tr th:only-of-type {\n",
       "        vertical-align: middle;\n",
       "    }\n",
       "\n",
       "    .dataframe tbody tr th {\n",
       "        vertical-align: top;\n",
       "    }\n",
       "\n",
       "    .dataframe thead th {\n",
       "        text-align: right;\n",
       "    }\n",
       "</style>\n",
       "<table border=\"1\" class=\"dataframe\">\n",
       "  <thead>\n",
       "    <tr style=\"text-align: right;\">\n",
       "      <th></th>\n",
       "      <th>Channel Title</th>\n",
       "      <th>Channel Username</th>\n",
       "      <th>ID</th>\n",
       "      <th>Message</th>\n",
       "      <th>Date</th>\n",
       "      <th>Media Path</th>\n",
       "      <th>Product_Name</th>\n",
       "      <th>Weight</th>\n",
       "      <th>Price</th>\n",
       "      <th>Telegram Address</th>\n",
       "      <th>Address</th>\n",
       "      <th>Phone Number</th>\n",
       "      <th>Open_Day_and_Time</th>\n",
       "      <th>Delivery Fee</th>\n",
       "    </tr>\n",
       "  </thead>\n",
       "  <tbody>\n",
       "    <tr>\n",
       "      <th>325</th>\n",
       "      <td>Lobelia pharmacy and cosmetics</td>\n",
       "      <td>@lobelia4cosmetics</td>\n",
       "      <td>12085</td>\n",
       "      <td>nido usa 2.2kg\\nprice 5900 birr \\ntelegram htt...</td>\n",
       "      <td>2024-09-25 06:13:14+00:00</td>\n",
       "      <td>photos\\@lobelia4cosmetics_12085.jpg</td>\n",
       "      <td>nido usa</td>\n",
       "      <td>2.2kg</td>\n",
       "      <td>5900</td>\n",
       "      <td>https://t.me/lobelia4cosmetics</td>\n",
       "      <td>adress:- infront of bole medhanialem high school</td>\n",
       "      <td>0911562031</td>\n",
       "      <td>open monday - monday from 8am until midnight ከ...</td>\n",
       "      <td>70 - 200 birr</td>\n",
       "    </tr>\n",
       "    <tr>\n",
       "      <th>183</th>\n",
       "      <td>Lobelia pharmacy and cosmetics</td>\n",
       "      <td>@lobelia4cosmetics</td>\n",
       "      <td>12234</td>\n",
       "      <td>aptamil no.1  800gm \\nprice 3600 birr \\ntelegr...</td>\n",
       "      <td>2024-10-05 10:47:15+00:00</td>\n",
       "      <td>photos\\@lobelia4cosmetics_12234.jpg</td>\n",
       "      <td>aptamil no.1  m</td>\n",
       "      <td>800g</td>\n",
       "      <td>3600</td>\n",
       "      <td>https://t.me/lobelia4cosmetics</td>\n",
       "      <td>adress:- infront of bole medhanialem high school</td>\n",
       "      <td>0911562031</td>\n",
       "      <td>open monday - monday from 8am until midnight ከ...</td>\n",
       "      <td>70 - 200 birr</td>\n",
       "    </tr>\n",
       "    <tr>\n",
       "      <th>1256</th>\n",
       "      <td>Lobelia pharmacy and cosmetics</td>\n",
       "      <td>@lobelia4cosmetics</td>\n",
       "      <td>11135</td>\n",
       "      <td>argon oil 236ml\\nprice 4000 birr \\ntelegram ht...</td>\n",
       "      <td>2024-08-15 12:06:13+00:00</td>\n",
       "      <td>photos\\@lobelia4cosmetics_11135.jpg</td>\n",
       "      <td>argon oil</td>\n",
       "      <td>236ml</td>\n",
       "      <td>4000</td>\n",
       "      <td>https://t.me/lobelia4cosmetics</td>\n",
       "      <td>adress:- infront of bole medhanialem high school</td>\n",
       "      <td>0911562031</td>\n",
       "      <td>open monday - monday from 8am until midnight ከ...</td>\n",
       "      <td>70 - 200 birr</td>\n",
       "    </tr>\n",
       "  </tbody>\n",
       "</table>\n",
       "</div>"
      ],
      "text/plain": [
       "                       Channel Title    Channel Username     ID  \\\n",
       "325   Lobelia pharmacy and cosmetics  @lobelia4cosmetics  12085   \n",
       "183   Lobelia pharmacy and cosmetics  @lobelia4cosmetics  12234   \n",
       "1256  Lobelia pharmacy and cosmetics  @lobelia4cosmetics  11135   \n",
       "\n",
       "                                                Message  \\\n",
       "325   nido usa 2.2kg\\nprice 5900 birr \\ntelegram htt...   \n",
       "183   aptamil no.1  800gm \\nprice 3600 birr \\ntelegr...   \n",
       "1256  argon oil 236ml\\nprice 4000 birr \\ntelegram ht...   \n",
       "\n",
       "                          Date                           Media Path  \\\n",
       "325  2024-09-25 06:13:14+00:00  photos\\@lobelia4cosmetics_12085.jpg   \n",
       "183  2024-10-05 10:47:15+00:00  photos\\@lobelia4cosmetics_12234.jpg   \n",
       "1256 2024-08-15 12:06:13+00:00  photos\\@lobelia4cosmetics_11135.jpg   \n",
       "\n",
       "         Product_Name Weight Price                Telegram Address  \\\n",
       "325          nido usa  2.2kg  5900  https://t.me/lobelia4cosmetics   \n",
       "183   aptamil no.1  m   800g  3600  https://t.me/lobelia4cosmetics   \n",
       "1256        argon oil  236ml  4000  https://t.me/lobelia4cosmetics   \n",
       "\n",
       "                                               Address Phone Number  \\\n",
       "325   adress:- infront of bole medhanialem high school   0911562031   \n",
       "183   adress:- infront of bole medhanialem high school   0911562031   \n",
       "1256  adress:- infront of bole medhanialem high school   0911562031   \n",
       "\n",
       "                                      Open_Day_and_Time   Delivery Fee  \n",
       "325   open monday - monday from 8am until midnight ከ...  70 - 200 birr  \n",
       "183   open monday - monday from 8am until midnight ከ...  70 - 200 birr  \n",
       "1256  open monday - monday from 8am until midnight ከ...  70 - 200 birr  "
      ]
     },
     "execution_count": 37,
     "metadata": {},
     "output_type": "execute_result"
    }
   ],
   "source": [
    "df.sample(3)"
   ]
  },
  {
   "cell_type": "markdown",
   "metadata": {},
   "source": [
    "##### 2.3 Extracting Price: \n",
    "Use this concept when you need to extract the price of a product from a given message. This can be useful when you need to calculate the total cost of a purchase or compare prices between different sellers."
   ]
  },
  {
   "cell_type": "code",
   "execution_count": 38,
   "metadata": {},
   "outputs": [],
   "source": [
    "# Apply the extraction function to the 'Message' column\n",
    "df['Price'] = df['Message'].apply(dp.extract_price)"
   ]
  },
  {
   "cell_type": "code",
   "execution_count": 39,
   "metadata": {},
   "outputs": [
    {
     "data": {
      "text/html": [
       "<div>\n",
       "<style scoped>\n",
       "    .dataframe tbody tr th:only-of-type {\n",
       "        vertical-align: middle;\n",
       "    }\n",
       "\n",
       "    .dataframe tbody tr th {\n",
       "        vertical-align: top;\n",
       "    }\n",
       "\n",
       "    .dataframe thead th {\n",
       "        text-align: right;\n",
       "    }\n",
       "</style>\n",
       "<table border=\"1\" class=\"dataframe\">\n",
       "  <thead>\n",
       "    <tr style=\"text-align: right;\">\n",
       "      <th></th>\n",
       "      <th>Channel Title</th>\n",
       "      <th>Channel Username</th>\n",
       "      <th>ID</th>\n",
       "      <th>Message</th>\n",
       "      <th>Date</th>\n",
       "      <th>Media Path</th>\n",
       "      <th>Product_Name</th>\n",
       "      <th>Weight</th>\n",
       "      <th>Price</th>\n",
       "      <th>Telegram Address</th>\n",
       "      <th>Address</th>\n",
       "      <th>Phone Number</th>\n",
       "      <th>Open_Day_and_Time</th>\n",
       "      <th>Delivery Fee</th>\n",
       "    </tr>\n",
       "  </thead>\n",
       "  <tbody>\n",
       "    <tr>\n",
       "      <th>1030</th>\n",
       "      <td>Lobelia pharmacy and cosmetics</td>\n",
       "      <td>@lobelia4cosmetics</td>\n",
       "      <td>11367</td>\n",
       "      <td>enfamil enfant formula 352gm \\nprice 3800 birr...</td>\n",
       "      <td>2024-08-23 14:16:50+00:00</td>\n",
       "      <td>photos\\@lobelia4cosmetics_11367.jpg</td>\n",
       "      <td>enfamil enfant formula m</td>\n",
       "      <td>352g</td>\n",
       "      <td>3800</td>\n",
       "      <td>https://t.me/lobelia4cosmetics</td>\n",
       "      <td>adress:- infront of bole medhanialem high school</td>\n",
       "      <td>0911562031</td>\n",
       "      <td>open monday - monday from 8am until midnight ከ...</td>\n",
       "      <td>70 - 200 birr</td>\n",
       "    </tr>\n",
       "    <tr>\n",
       "      <th>1177</th>\n",
       "      <td>Lobelia pharmacy and cosmetics</td>\n",
       "      <td>@lobelia4cosmetics</td>\n",
       "      <td>11215</td>\n",
       "      <td>enfamil neuro 565gm \\nprice 5500 birr \\ntelegr...</td>\n",
       "      <td>2024-08-17 14:20:53+00:00</td>\n",
       "      <td>photos\\@lobelia4cosmetics_11215.jpg</td>\n",
       "      <td>enfamil neuro m</td>\n",
       "      <td>565g</td>\n",
       "      <td>5500</td>\n",
       "      <td>https://t.me/lobelia4cosmetics</td>\n",
       "      <td>adress:- infront of bole medhanialem high school</td>\n",
       "      <td>0911562031</td>\n",
       "      <td>open monday - monday from 8am until midnight ከ...</td>\n",
       "      <td>70 - 200 birr</td>\n",
       "    </tr>\n",
       "    <tr>\n",
       "      <th>22</th>\n",
       "      <td>Lobelia pharmacy and cosmetics</td>\n",
       "      <td>@lobelia4cosmetics</td>\n",
       "      <td>12401</td>\n",
       "      <td>sulfur8 205g\\nprice 3000 birr \\ntelegram https...</td>\n",
       "      <td>2024-10-10 14:47:05+00:00</td>\n",
       "      <td>photos\\@lobelia4cosmetics_12401.jpg</td>\n",
       "      <td>sulfur8</td>\n",
       "      <td>205g</td>\n",
       "      <td>3000</td>\n",
       "      <td>https://t.me/lobelia4cosmetics</td>\n",
       "      <td>adress:- infront of bole medhanialem high school</td>\n",
       "      <td>0911562031</td>\n",
       "      <td>open monday - monday from 8am until midnight ከ...</td>\n",
       "      <td>70 - 200 birr</td>\n",
       "    </tr>\n",
       "  </tbody>\n",
       "</table>\n",
       "</div>"
      ],
      "text/plain": [
       "                       Channel Title    Channel Username     ID  \\\n",
       "1030  Lobelia pharmacy and cosmetics  @lobelia4cosmetics  11367   \n",
       "1177  Lobelia pharmacy and cosmetics  @lobelia4cosmetics  11215   \n",
       "22    Lobelia pharmacy and cosmetics  @lobelia4cosmetics  12401   \n",
       "\n",
       "                                                Message  \\\n",
       "1030  enfamil enfant formula 352gm \\nprice 3800 birr...   \n",
       "1177  enfamil neuro 565gm \\nprice 5500 birr \\ntelegr...   \n",
       "22    sulfur8 205g\\nprice 3000 birr \\ntelegram https...   \n",
       "\n",
       "                          Date                           Media Path  \\\n",
       "1030 2024-08-23 14:16:50+00:00  photos\\@lobelia4cosmetics_11367.jpg   \n",
       "1177 2024-08-17 14:20:53+00:00  photos\\@lobelia4cosmetics_11215.jpg   \n",
       "22   2024-10-10 14:47:05+00:00  photos\\@lobelia4cosmetics_12401.jpg   \n",
       "\n",
       "                  Product_Name Weight Price                Telegram Address  \\\n",
       "1030  enfamil enfant formula m   352g  3800  https://t.me/lobelia4cosmetics   \n",
       "1177           enfamil neuro m   565g  5500  https://t.me/lobelia4cosmetics   \n",
       "22                     sulfur8   205g  3000  https://t.me/lobelia4cosmetics   \n",
       "\n",
       "                                               Address Phone Number  \\\n",
       "1030  adress:- infront of bole medhanialem high school   0911562031   \n",
       "1177  adress:- infront of bole medhanialem high school   0911562031   \n",
       "22    adress:- infront of bole medhanialem high school   0911562031   \n",
       "\n",
       "                                      Open_Day_and_Time   Delivery Fee  \n",
       "1030  open monday - monday from 8am until midnight ከ...  70 - 200 birr  \n",
       "1177  open monday - monday from 8am until midnight ከ...  70 - 200 birr  \n",
       "22    open monday - monday from 8am until midnight ከ...  70 - 200 birr  "
      ]
     },
     "execution_count": 39,
     "metadata": {},
     "output_type": "execute_result"
    }
   ],
   "source": [
    "df.sample(3)"
   ]
  },
  {
   "cell_type": "markdown",
   "metadata": {},
   "source": [
    "##### 2.4 Telegram Address: \n",
    "We can use regular expressions to extract the Telegram address from the message column. For example, we can look for strings that start with \"https://t.me/\"."
   ]
  },
  {
   "cell_type": "code",
   "execution_count": 40,
   "metadata": {},
   "outputs": [],
   "source": [
    "# Apply the extraction function to the 'Message' column\n",
    "df['Telegram Address'] = df['Message'].apply(lambda x: pd.Series(dp.extract_telegram_address(x)))\n"
   ]
  },
  {
   "cell_type": "code",
   "execution_count": 41,
   "metadata": {},
   "outputs": [
    {
     "data": {
      "text/html": [
       "<div>\n",
       "<style scoped>\n",
       "    .dataframe tbody tr th:only-of-type {\n",
       "        vertical-align: middle;\n",
       "    }\n",
       "\n",
       "    .dataframe tbody tr th {\n",
       "        vertical-align: top;\n",
       "    }\n",
       "\n",
       "    .dataframe thead th {\n",
       "        text-align: right;\n",
       "    }\n",
       "</style>\n",
       "<table border=\"1\" class=\"dataframe\">\n",
       "  <thead>\n",
       "    <tr style=\"text-align: right;\">\n",
       "      <th></th>\n",
       "      <th>Channel Title</th>\n",
       "      <th>Channel Username</th>\n",
       "      <th>ID</th>\n",
       "      <th>Message</th>\n",
       "      <th>Date</th>\n",
       "      <th>Media Path</th>\n",
       "      <th>Product_Name</th>\n",
       "      <th>Weight</th>\n",
       "      <th>Price</th>\n",
       "      <th>Telegram Address</th>\n",
       "      <th>Address</th>\n",
       "      <th>Phone Number</th>\n",
       "      <th>Open_Day_and_Time</th>\n",
       "      <th>Delivery Fee</th>\n",
       "    </tr>\n",
       "  </thead>\n",
       "  <tbody>\n",
       "    <tr>\n",
       "      <th>422</th>\n",
       "      <td>Lobelia pharmacy and cosmetics</td>\n",
       "      <td>@lobelia4cosmetics</td>\n",
       "      <td>11985</td>\n",
       "      <td>fungi nail 30ml\\nprice 3500 birr \\ntelegram ht...</td>\n",
       "      <td>2024-09-20 14:26:34+00:00</td>\n",
       "      <td>photos\\@lobelia4cosmetics_11985.jpg</td>\n",
       "      <td>fungi nail</td>\n",
       "      <td>30ml</td>\n",
       "      <td>3500</td>\n",
       "      <td>https://t.me/lobelia4cosmetics</td>\n",
       "      <td>adress:- infront of bole medhanialem high school</td>\n",
       "      <td>0911562031</td>\n",
       "      <td>open monday - monday from 8am until midnight ከ...</td>\n",
       "      <td>70 - 200 birr</td>\n",
       "    </tr>\n",
       "  </tbody>\n",
       "</table>\n",
       "</div>"
      ],
      "text/plain": [
       "                      Channel Title    Channel Username     ID  \\\n",
       "422  Lobelia pharmacy and cosmetics  @lobelia4cosmetics  11985   \n",
       "\n",
       "                                               Message  \\\n",
       "422  fungi nail 30ml\\nprice 3500 birr \\ntelegram ht...   \n",
       "\n",
       "                         Date                           Media Path  \\\n",
       "422 2024-09-20 14:26:34+00:00  photos\\@lobelia4cosmetics_11985.jpg   \n",
       "\n",
       "    Product_Name Weight Price                Telegram Address  \\\n",
       "422   fungi nail   30ml  3500  https://t.me/lobelia4cosmetics   \n",
       "\n",
       "                                              Address Phone Number  \\\n",
       "422  adress:- infront of bole medhanialem high school   0911562031   \n",
       "\n",
       "                                     Open_Day_and_Time   Delivery Fee  \n",
       "422  open monday - monday from 8am until midnight ከ...  70 - 200 birr  "
      ]
     },
     "execution_count": 41,
     "metadata": {},
     "output_type": "execute_result"
    }
   ],
   "source": [
    "df.sample()"
   ]
  },
  {
   "cell_type": "markdown",
   "metadata": {},
   "source": [
    "##### 2.5 Extracting Address: \n",
    "Use this concept when you need to extract an address from a given message. This can be useful when you need to ship a product or provide directions to a physical location."
   ]
  },
  {
   "cell_type": "code",
   "execution_count": 42,
   "metadata": {},
   "outputs": [],
   "source": [
    "# Apply the extraction function to the 'Message' column\n",
    "df['Address'] = df['Message'].apply(lambda x: pd.Series(dp.extract_address(x)))"
   ]
  },
  {
   "cell_type": "code",
   "execution_count": 43,
   "metadata": {},
   "outputs": [
    {
     "data": {
      "text/html": [
       "<div>\n",
       "<style scoped>\n",
       "    .dataframe tbody tr th:only-of-type {\n",
       "        vertical-align: middle;\n",
       "    }\n",
       "\n",
       "    .dataframe tbody tr th {\n",
       "        vertical-align: top;\n",
       "    }\n",
       "\n",
       "    .dataframe thead th {\n",
       "        text-align: right;\n",
       "    }\n",
       "</style>\n",
       "<table border=\"1\" class=\"dataframe\">\n",
       "  <thead>\n",
       "    <tr style=\"text-align: right;\">\n",
       "      <th></th>\n",
       "      <th>Channel Title</th>\n",
       "      <th>Channel Username</th>\n",
       "      <th>ID</th>\n",
       "      <th>Message</th>\n",
       "      <th>Date</th>\n",
       "      <th>Media Path</th>\n",
       "      <th>Product_Name</th>\n",
       "      <th>Weight</th>\n",
       "      <th>Price</th>\n",
       "      <th>Telegram Address</th>\n",
       "      <th>Address</th>\n",
       "      <th>Phone Number</th>\n",
       "      <th>Open_Day_and_Time</th>\n",
       "      <th>Delivery Fee</th>\n",
       "    </tr>\n",
       "  </thead>\n",
       "  <tbody>\n",
       "    <tr>\n",
       "      <th>1939</th>\n",
       "      <td>Lobelia pharmacy and cosmetics</td>\n",
       "      <td>@lobelia4cosmetics</td>\n",
       "      <td>10436</td>\n",
       "      <td>s 26 1.8kg no.1\\nprice 5000 birr \\ntelegram ht...</td>\n",
       "      <td>2024-07-24 09:17:50+00:00</td>\n",
       "      <td>photos\\@lobelia4cosmetics_10436.jpg</td>\n",
       "      <td>s 26  no.1</td>\n",
       "      <td>1.8kg</td>\n",
       "      <td>5000</td>\n",
       "      <td>https://t.me/lobelia4cosmetics</td>\n",
       "      <td>adress:- infront of bole medhanialem high school</td>\n",
       "      <td>0911562031</td>\n",
       "      <td>open monday - monday from 8am until midnight ከ...</td>\n",
       "      <td>70 - 200 birr</td>\n",
       "    </tr>\n",
       "    <tr>\n",
       "      <th>140</th>\n",
       "      <td>Lobelia pharmacy and cosmetics</td>\n",
       "      <td>@lobelia4cosmetics</td>\n",
       "      <td>12281</td>\n",
       "      <td>sulfur8 205g\\nprice 3000 birr \\ntelegram https...</td>\n",
       "      <td>2024-10-07 13:47:10+00:00</td>\n",
       "      <td>photos\\@lobelia4cosmetics_12281.jpg</td>\n",
       "      <td>sulfur8</td>\n",
       "      <td>205g</td>\n",
       "      <td>3000</td>\n",
       "      <td>https://t.me/lobelia4cosmetics</td>\n",
       "      <td>adress:- infront of bole medhanialem high school</td>\n",
       "      <td>0911562031</td>\n",
       "      <td>open monday - monday from 8am until midnight ከ...</td>\n",
       "      <td>70 - 200 birr</td>\n",
       "    </tr>\n",
       "    <tr>\n",
       "      <th>150</th>\n",
       "      <td>Lobelia pharmacy and cosmetics</td>\n",
       "      <td>@lobelia4cosmetics</td>\n",
       "      <td>12271</td>\n",
       "      <td>glucosamine 1000mg/100mg 90 capsules \\nprice 5...</td>\n",
       "      <td>2024-10-07 05:35:19+00:00</td>\n",
       "      <td>photos\\@lobelia4cosmetics_12271.jpg</td>\n",
       "      <td>glucosamine /100mg 90 capsules</td>\n",
       "      <td>1000mg</td>\n",
       "      <td>5000</td>\n",
       "      <td>https://t.me/lobelia4cosmetics</td>\n",
       "      <td>adress:- infront of bole medhanialem high school</td>\n",
       "      <td>0911562031</td>\n",
       "      <td>open monday - monday from 8am until midnight ከ...</td>\n",
       "      <td>70 - 200 birr</td>\n",
       "    </tr>\n",
       "  </tbody>\n",
       "</table>\n",
       "</div>"
      ],
      "text/plain": [
       "                       Channel Title    Channel Username     ID  \\\n",
       "1939  Lobelia pharmacy and cosmetics  @lobelia4cosmetics  10436   \n",
       "140   Lobelia pharmacy and cosmetics  @lobelia4cosmetics  12281   \n",
       "150   Lobelia pharmacy and cosmetics  @lobelia4cosmetics  12271   \n",
       "\n",
       "                                                Message  \\\n",
       "1939  s 26 1.8kg no.1\\nprice 5000 birr \\ntelegram ht...   \n",
       "140   sulfur8 205g\\nprice 3000 birr \\ntelegram https...   \n",
       "150   glucosamine 1000mg/100mg 90 capsules \\nprice 5...   \n",
       "\n",
       "                          Date                           Media Path  \\\n",
       "1939 2024-07-24 09:17:50+00:00  photos\\@lobelia4cosmetics_10436.jpg   \n",
       "140  2024-10-07 13:47:10+00:00  photos\\@lobelia4cosmetics_12281.jpg   \n",
       "150  2024-10-07 05:35:19+00:00  photos\\@lobelia4cosmetics_12271.jpg   \n",
       "\n",
       "                        Product_Name  Weight Price  \\\n",
       "1939                      s 26  no.1   1.8kg  5000   \n",
       "140                          sulfur8    205g  3000   \n",
       "150   glucosamine /100mg 90 capsules  1000mg  5000   \n",
       "\n",
       "                    Telegram Address  \\\n",
       "1939  https://t.me/lobelia4cosmetics   \n",
       "140   https://t.me/lobelia4cosmetics   \n",
       "150   https://t.me/lobelia4cosmetics   \n",
       "\n",
       "                                               Address Phone Number  \\\n",
       "1939  adress:- infront of bole medhanialem high school   0911562031   \n",
       "140   adress:- infront of bole medhanialem high school   0911562031   \n",
       "150   adress:- infront of bole medhanialem high school   0911562031   \n",
       "\n",
       "                                      Open_Day_and_Time   Delivery Fee  \n",
       "1939  open monday - monday from 8am until midnight ከ...  70 - 200 birr  \n",
       "140   open monday - monday from 8am until midnight ከ...  70 - 200 birr  \n",
       "150   open monday - monday from 8am until midnight ከ...  70 - 200 birr  "
      ]
     },
     "execution_count": 43,
     "metadata": {},
     "output_type": "execute_result"
    }
   ],
   "source": [
    "df.sample(3)"
   ]
  },
  {
   "cell_type": "markdown",
   "metadata": {},
   "source": [
    "#### 2.6 Extracting Phone Number: \n",
    "Use this concept when you need to extract a phone number from a given message. This can be useful when you need to contact a customer or seller."
   ]
  },
  {
   "cell_type": "code",
   "execution_count": 44,
   "metadata": {},
   "outputs": [],
   "source": [
    "# Apply the extraction function to the 'Message' column\n",
    "df['Phone Number'] = df['Message'].apply(dp.extract_phone_number)"
   ]
  },
  {
   "cell_type": "code",
   "execution_count": 45,
   "metadata": {},
   "outputs": [
    {
     "data": {
      "text/html": [
       "<div>\n",
       "<style scoped>\n",
       "    .dataframe tbody tr th:only-of-type {\n",
       "        vertical-align: middle;\n",
       "    }\n",
       "\n",
       "    .dataframe tbody tr th {\n",
       "        vertical-align: top;\n",
       "    }\n",
       "\n",
       "    .dataframe thead th {\n",
       "        text-align: right;\n",
       "    }\n",
       "</style>\n",
       "<table border=\"1\" class=\"dataframe\">\n",
       "  <thead>\n",
       "    <tr style=\"text-align: right;\">\n",
       "      <th></th>\n",
       "      <th>Channel Title</th>\n",
       "      <th>Channel Username</th>\n",
       "      <th>ID</th>\n",
       "      <th>Message</th>\n",
       "      <th>Date</th>\n",
       "      <th>Media Path</th>\n",
       "      <th>Product_Name</th>\n",
       "      <th>Weight</th>\n",
       "      <th>Price</th>\n",
       "      <th>Telegram Address</th>\n",
       "      <th>Address</th>\n",
       "      <th>Phone Number</th>\n",
       "      <th>Open_Day_and_Time</th>\n",
       "      <th>Delivery Fee</th>\n",
       "    </tr>\n",
       "  </thead>\n",
       "  <tbody>\n",
       "    <tr>\n",
       "      <th>317</th>\n",
       "      <td>Lobelia pharmacy and cosmetics</td>\n",
       "      <td>@lobelia4cosmetics</td>\n",
       "      <td>12094</td>\n",
       "      <td>aptamil no.3  800gm \\nprice 3600 birr \\ntelegr...</td>\n",
       "      <td>2024-09-28 08:17:39+00:00</td>\n",
       "      <td>photos\\@lobelia4cosmetics_12094.jpg</td>\n",
       "      <td>aptamil no.3  m</td>\n",
       "      <td>800g</td>\n",
       "      <td>3600</td>\n",
       "      <td>https://t.me/lobelia4cosmetics</td>\n",
       "      <td>adress:- infront of bole medhanialem high school</td>\n",
       "      <td>0911562031</td>\n",
       "      <td>open monday - monday from 8am until midnight ከ...</td>\n",
       "      <td>70 - 200 birr</td>\n",
       "    </tr>\n",
       "    <tr>\n",
       "      <th>1990</th>\n",
       "      <td>Lobelia pharmacy and cosmetics</td>\n",
       "      <td>@lobelia4cosmetics</td>\n",
       "      <td>10385</td>\n",
       "      <td>enfamil neuropro 665gm \\nprice 5500 birr \\ntel...</td>\n",
       "      <td>2024-07-22 12:55:32+00:00</td>\n",
       "      <td>photos\\@lobelia4cosmetics_10385.jpg</td>\n",
       "      <td>enfamil neuropro m</td>\n",
       "      <td>665g</td>\n",
       "      <td>5500</td>\n",
       "      <td>https://t.me/lobelia4cosmetics</td>\n",
       "      <td>adress:- infront of bole medhanialem high school</td>\n",
       "      <td>0911562031</td>\n",
       "      <td>open monday - monday from 8am until midnight ከ...</td>\n",
       "      <td>70 - 200 birr</td>\n",
       "    </tr>\n",
       "    <tr>\n",
       "      <th>127</th>\n",
       "      <td>Lobelia pharmacy and cosmetics</td>\n",
       "      <td>@lobelia4cosmetics</td>\n",
       "      <td>12294</td>\n",
       "      <td>aptamil no.3  800gm \\nprice 3600 birr \\ntelegr...</td>\n",
       "      <td>2024-10-07 14:59:37+00:00</td>\n",
       "      <td>photos\\@lobelia4cosmetics_12294.jpg</td>\n",
       "      <td>aptamil no.3  m</td>\n",
       "      <td>800g</td>\n",
       "      <td>3600</td>\n",
       "      <td>https://t.me/lobelia4cosmetics</td>\n",
       "      <td>adress:- infront of bole medhanialem high school</td>\n",
       "      <td>0911562031</td>\n",
       "      <td>open monday - monday from 8am until midnight ከ...</td>\n",
       "      <td>70 - 200 birr</td>\n",
       "    </tr>\n",
       "  </tbody>\n",
       "</table>\n",
       "</div>"
      ],
      "text/plain": [
       "                       Channel Title    Channel Username     ID  \\\n",
       "317   Lobelia pharmacy and cosmetics  @lobelia4cosmetics  12094   \n",
       "1990  Lobelia pharmacy and cosmetics  @lobelia4cosmetics  10385   \n",
       "127   Lobelia pharmacy and cosmetics  @lobelia4cosmetics  12294   \n",
       "\n",
       "                                                Message  \\\n",
       "317   aptamil no.3  800gm \\nprice 3600 birr \\ntelegr...   \n",
       "1990  enfamil neuropro 665gm \\nprice 5500 birr \\ntel...   \n",
       "127   aptamil no.3  800gm \\nprice 3600 birr \\ntelegr...   \n",
       "\n",
       "                          Date                           Media Path  \\\n",
       "317  2024-09-28 08:17:39+00:00  photos\\@lobelia4cosmetics_12094.jpg   \n",
       "1990 2024-07-22 12:55:32+00:00  photos\\@lobelia4cosmetics_10385.jpg   \n",
       "127  2024-10-07 14:59:37+00:00  photos\\@lobelia4cosmetics_12294.jpg   \n",
       "\n",
       "            Product_Name Weight Price                Telegram Address  \\\n",
       "317      aptamil no.3  m   800g  3600  https://t.me/lobelia4cosmetics   \n",
       "1990  enfamil neuropro m   665g  5500  https://t.me/lobelia4cosmetics   \n",
       "127      aptamil no.3  m   800g  3600  https://t.me/lobelia4cosmetics   \n",
       "\n",
       "                                               Address Phone Number  \\\n",
       "317   adress:- infront of bole medhanialem high school   0911562031   \n",
       "1990  adress:- infront of bole medhanialem high school   0911562031   \n",
       "127   adress:- infront of bole medhanialem high school   0911562031   \n",
       "\n",
       "                                      Open_Day_and_Time   Delivery Fee  \n",
       "317   open monday - monday from 8am until midnight ከ...  70 - 200 birr  \n",
       "1990  open monday - monday from 8am until midnight ከ...  70 - 200 birr  \n",
       "127   open monday - monday from 8am until midnight ከ...  70 - 200 birr  "
      ]
     },
     "execution_count": 45,
     "metadata": {},
     "output_type": "execute_result"
    }
   ],
   "source": [
    "df.sample(3)"
   ]
  },
  {
   "cell_type": "markdown",
   "metadata": {},
   "source": [
    "##### 2.7 Extracting Open Day and Time: \n",
    "Use this concept when you need to extract the days and hours of operation for a business. This can be useful when you need to plan a visit or contact a business during their operating hours."
   ]
  },
  {
   "cell_type": "code",
   "execution_count": 46,
   "metadata": {},
   "outputs": [],
   "source": [
    "# Apply the extraction function to the 'Message' column\n",
    "df['Open_Day_and_Time'] = df['Message'].apply(dp.extract_open_day_and_time)"
   ]
  },
  {
   "cell_type": "code",
   "execution_count": 47,
   "metadata": {},
   "outputs": [
    {
     "data": {
      "text/html": [
       "<div>\n",
       "<style scoped>\n",
       "    .dataframe tbody tr th:only-of-type {\n",
       "        vertical-align: middle;\n",
       "    }\n",
       "\n",
       "    .dataframe tbody tr th {\n",
       "        vertical-align: top;\n",
       "    }\n",
       "\n",
       "    .dataframe thead th {\n",
       "        text-align: right;\n",
       "    }\n",
       "</style>\n",
       "<table border=\"1\" class=\"dataframe\">\n",
       "  <thead>\n",
       "    <tr style=\"text-align: right;\">\n",
       "      <th></th>\n",
       "      <th>Channel Title</th>\n",
       "      <th>Channel Username</th>\n",
       "      <th>ID</th>\n",
       "      <th>Message</th>\n",
       "      <th>Date</th>\n",
       "      <th>Media Path</th>\n",
       "      <th>Product_Name</th>\n",
       "      <th>Weight</th>\n",
       "      <th>Price</th>\n",
       "      <th>Telegram Address</th>\n",
       "      <th>Address</th>\n",
       "      <th>Phone Number</th>\n",
       "      <th>Open_Day_and_Time</th>\n",
       "      <th>Delivery Fee</th>\n",
       "    </tr>\n",
       "  </thead>\n",
       "  <tbody>\n",
       "    <tr>\n",
       "      <th>1387</th>\n",
       "      <td>Lobelia pharmacy and cosmetics</td>\n",
       "      <td>@lobelia4cosmetics</td>\n",
       "      <td>11002</td>\n",
       "      <td>enfamil a plus 765gm \\nprice 5500 birr \\nteleg...</td>\n",
       "      <td>2024-08-10 06:48:09+00:00</td>\n",
       "      <td>photos\\@lobelia4cosmetics_11002.jpg</td>\n",
       "      <td>enfamil a plus m</td>\n",
       "      <td>765g</td>\n",
       "      <td>5500</td>\n",
       "      <td>https://t.me/lobelia4cosmetics</td>\n",
       "      <td>adress:- infront of bole medhanialem high school</td>\n",
       "      <td>0911562031</td>\n",
       "      <td>open monday - monday from 8am until midnight ከ...</td>\n",
       "      <td>70 - 200 birr</td>\n",
       "    </tr>\n",
       "    <tr>\n",
       "      <th>...</th>\n",
       "      <td>...</td>\n",
       "      <td>...</td>\n",
       "      <td>...</td>\n",
       "      <td>...</td>\n",
       "      <td>...</td>\n",
       "      <td>...</td>\n",
       "      <td>...</td>\n",
       "      <td>...</td>\n",
       "      <td>...</td>\n",
       "      <td>...</td>\n",
       "      <td>...</td>\n",
       "      <td>...</td>\n",
       "      <td>...</td>\n",
       "      <td>...</td>\n",
       "    </tr>\n",
       "    <tr>\n",
       "      <th>2086</th>\n",
       "      <td>Lobelia pharmacy and cosmetics</td>\n",
       "      <td>@lobelia4cosmetics</td>\n",
       "      <td>10287</td>\n",
       "      <td>similac 850gm\\nprice 5500 birr \\ntelegram http...</td>\n",
       "      <td>2024-07-19 16:34:31+00:00</td>\n",
       "      <td>photos\\@lobelia4cosmetics_10287.jpg</td>\n",
       "      <td>similac m</td>\n",
       "      <td>850g</td>\n",
       "      <td>5500</td>\n",
       "      <td>https://t.me/lobelia4cosmetics</td>\n",
       "      <td>adress:- infront of bole medhanialem high school</td>\n",
       "      <td>0911562031</td>\n",
       "      <td>open monday - monday from 8am until midnight ከ...</td>\n",
       "      <td>70 - 200 birr</td>\n",
       "    </tr>\n",
       "  </tbody>\n",
       "</table>\n",
       "<p>5 rows × 14 columns</p>\n",
       "</div>"
      ],
      "text/plain": [
       "                       Channel Title    Channel Username     ID  \\\n",
       "1387  Lobelia pharmacy and cosmetics  @lobelia4cosmetics  11002   \n",
       "...                              ...                 ...    ...   \n",
       "2086  Lobelia pharmacy and cosmetics  @lobelia4cosmetics  10287   \n",
       "\n",
       "                                                Message  \\\n",
       "1387  enfamil a plus 765gm \\nprice 5500 birr \\nteleg...   \n",
       "...                                                 ...   \n",
       "2086  similac 850gm\\nprice 5500 birr \\ntelegram http...   \n",
       "\n",
       "                          Date                           Media Path  \\\n",
       "1387 2024-08-10 06:48:09+00:00  photos\\@lobelia4cosmetics_11002.jpg   \n",
       "...                        ...                                  ...   \n",
       "2086 2024-07-19 16:34:31+00:00  photos\\@lobelia4cosmetics_10287.jpg   \n",
       "\n",
       "          Product_Name Weight Price                Telegram Address  \\\n",
       "1387  enfamil a plus m   765g  5500  https://t.me/lobelia4cosmetics   \n",
       "...                ...    ...   ...                             ...   \n",
       "2086         similac m   850g  5500  https://t.me/lobelia4cosmetics   \n",
       "\n",
       "                                               Address Phone Number  \\\n",
       "1387  adress:- infront of bole medhanialem high school   0911562031   \n",
       "...                                                ...          ...   \n",
       "2086  adress:- infront of bole medhanialem high school   0911562031   \n",
       "\n",
       "                                      Open_Day_and_Time   Delivery Fee  \n",
       "1387  open monday - monday from 8am until midnight ከ...  70 - 200 birr  \n",
       "...                                                 ...            ...  \n",
       "2086  open monday - monday from 8am until midnight ከ...  70 - 200 birr  \n",
       "\n",
       "[5 rows x 14 columns]"
      ]
     },
     "execution_count": 47,
     "metadata": {},
     "output_type": "execute_result"
    }
   ],
   "source": [
    "# Set display options\n",
    "pd.set_option('display.max_rows', 3)\n",
    "pd.set_option('display.max_columns', None)\n",
    "\n",
    "# Sample 5 rows from the DataFrame\n",
    "df_sample = df.sample(5)\n",
    "df_sample"
   ]
  },
  {
   "cell_type": "markdown",
   "metadata": {},
   "source": [
    "##### 2.8 Extracting Delivery Fee: \n",
    "Use this concept when you need to extract the delivery fee for a product from a given message. This can be useful when you need to calculate the total cost of a purchase or compare delivery fees between different sellers."
   ]
  },
  {
   "cell_type": "code",
   "execution_count": 26,
   "metadata": {},
   "outputs": [],
   "source": [
    "# Apply the extraction function to the 'Message' column\n",
    "df['Delivery Fee'] = df['Message'].apply(lambda x: pd.Series(dp.extract_delivery_fee(x)))"
   ]
  },
  {
   "cell_type": "code",
   "execution_count": 27,
   "metadata": {},
   "outputs": [
    {
     "data": {
      "text/html": [
       "<div>\n",
       "<style scoped>\n",
       "    .dataframe tbody tr th:only-of-type {\n",
       "        vertical-align: middle;\n",
       "    }\n",
       "\n",
       "    .dataframe tbody tr th {\n",
       "        vertical-align: top;\n",
       "    }\n",
       "\n",
       "    .dataframe thead th {\n",
       "        text-align: right;\n",
       "    }\n",
       "</style>\n",
       "<table border=\"1\" class=\"dataframe\">\n",
       "  <thead>\n",
       "    <tr style=\"text-align: right;\">\n",
       "      <th></th>\n",
       "      <th>Channel Title</th>\n",
       "      <th>Channel Username</th>\n",
       "      <th>ID</th>\n",
       "      <th>Message</th>\n",
       "      <th>Date</th>\n",
       "      <th>Media Path</th>\n",
       "      <th>Product_Name</th>\n",
       "      <th>Weight</th>\n",
       "      <th>Price</th>\n",
       "      <th>Telegram Address</th>\n",
       "      <th>Address</th>\n",
       "      <th>Phone Number</th>\n",
       "      <th>Open_Day_and_Time</th>\n",
       "      <th>Delivery Fee</th>\n",
       "    </tr>\n",
       "  </thead>\n",
       "  <tbody>\n",
       "    <tr>\n",
       "      <th>134</th>\n",
       "      <td>Lobelia pharmacy and cosmetics</td>\n",
       "      <td>@lobelia4cosmetics</td>\n",
       "      <td>12287</td>\n",
       "      <td>suave kids wash \\nprice 3200 birr \\ntelegram h...</td>\n",
       "      <td>2024-10-07 13:47:10+00:00</td>\n",
       "      <td>photos\\@lobelia4cosmetics_12287.jpg</td>\n",
       "      <td>suave kids wash</td>\n",
       "      <td>None</td>\n",
       "      <td>3200</td>\n",
       "      <td>https://t.me/lobelia4cosmetics</td>\n",
       "      <td>adress:- infront of bole medhanialem high school</td>\n",
       "      <td>0911562031</td>\n",
       "      <td>open monday - monday from 8am until midnight ከ...</td>\n",
       "      <td>70 - 200 birr</td>\n",
       "    </tr>\n",
       "    <tr>\n",
       "      <th>651</th>\n",
       "      <td>Lobelia pharmacy and cosmetics</td>\n",
       "      <td>@lobelia4cosmetics</td>\n",
       "      <td>11750</td>\n",
       "      <td>tums 100 chewable tablets \\nprice 1800 birr \\n...</td>\n",
       "      <td>2024-09-07 06:48:32+00:00</td>\n",
       "      <td>photos\\@lobelia4cosmetics_11750.jpg</td>\n",
       "      <td>tums 100 chewable tablets</td>\n",
       "      <td>None</td>\n",
       "      <td>1800</td>\n",
       "      <td>https://t.me/lobelia4cosmetics</td>\n",
       "      <td>adress:- infront of bole medhanialem high school</td>\n",
       "      <td>0911562031</td>\n",
       "      <td>open monday - monday from 8am until midnight ከ...</td>\n",
       "      <td>70 - 200 birr</td>\n",
       "    </tr>\n",
       "    <tr>\n",
       "      <th>1342</th>\n",
       "      <td>Lobelia pharmacy and cosmetics</td>\n",
       "      <td>@lobelia4cosmetics</td>\n",
       "      <td>11048</td>\n",
       "      <td>nido usa 2.2kg\\nprice 5900 birr \\ntelegram htt...</td>\n",
       "      <td>2024-08-12 05:43:37+00:00</td>\n",
       "      <td>photos\\@lobelia4cosmetics_11048.jpg</td>\n",
       "      <td>nido usa</td>\n",
       "      <td>2.2kg</td>\n",
       "      <td>5900</td>\n",
       "      <td>https://t.me/lobelia4cosmetics</td>\n",
       "      <td>adress:- infront of bole medhanialem high school</td>\n",
       "      <td>0911562031</td>\n",
       "      <td>open monday - monday from 8am until midnight ከ...</td>\n",
       "      <td>70 - 200 birr</td>\n",
       "    </tr>\n",
       "  </tbody>\n",
       "</table>\n",
       "</div>"
      ],
      "text/plain": [
       "                       Channel Title    Channel Username     ID  \\\n",
       "134   Lobelia pharmacy and cosmetics  @lobelia4cosmetics  12287   \n",
       "651   Lobelia pharmacy and cosmetics  @lobelia4cosmetics  11750   \n",
       "1342  Lobelia pharmacy and cosmetics  @lobelia4cosmetics  11048   \n",
       "\n",
       "                                                Message  \\\n",
       "134   suave kids wash \\nprice 3200 birr \\ntelegram h...   \n",
       "651   tums 100 chewable tablets \\nprice 1800 birr \\n...   \n",
       "1342  nido usa 2.2kg\\nprice 5900 birr \\ntelegram htt...   \n",
       "\n",
       "                          Date                           Media Path  \\\n",
       "134  2024-10-07 13:47:10+00:00  photos\\@lobelia4cosmetics_12287.jpg   \n",
       "651  2024-09-07 06:48:32+00:00  photos\\@lobelia4cosmetics_11750.jpg   \n",
       "1342 2024-08-12 05:43:37+00:00  photos\\@lobelia4cosmetics_11048.jpg   \n",
       "\n",
       "                   Product_Name Weight Price                Telegram Address  \\\n",
       "134             suave kids wash   None  3200  https://t.me/lobelia4cosmetics   \n",
       "651   tums 100 chewable tablets   None  1800  https://t.me/lobelia4cosmetics   \n",
       "1342                   nido usa  2.2kg  5900  https://t.me/lobelia4cosmetics   \n",
       "\n",
       "                                               Address Phone Number  \\\n",
       "134   adress:- infront of bole medhanialem high school   0911562031   \n",
       "651   adress:- infront of bole medhanialem high school   0911562031   \n",
       "1342  adress:- infront of bole medhanialem high school   0911562031   \n",
       "\n",
       "                                      Open_Day_and_Time   Delivery Fee  \n",
       "134   open monday - monday from 8am until midnight ከ...  70 - 200 birr  \n",
       "651   open monday - monday from 8am until midnight ከ...  70 - 200 birr  \n",
       "1342  open monday - monday from 8am until midnight ከ...  70 - 200 birr  "
      ]
     },
     "execution_count": 27,
     "metadata": {},
     "output_type": "execute_result"
    }
   ],
   "source": [
    "df.sample(3)"
   ]
  },
  {
   "cell_type": "markdown",
   "metadata": {},
   "source": [
    "##### 2.9 Remove Emoji From Message Data "
   ]
  },
  {
   "cell_type": "code",
   "execution_count": 28,
   "metadata": {},
   "outputs": [],
   "source": [
    "df['Message'] = df['Message'].apply(dp.remove_emojis)"
   ]
  },
  {
   "cell_type": "code",
   "execution_count": 29,
   "metadata": {},
   "outputs": [],
   "source": [
    "# Save the preprocessed data to csv file\n",
    "df.to_csv('../data/preprocessed/preprocessed.csv', index=False)"
   ]
  }
 ],
 "metadata": {
  "kernelspec": {
   "display_name": "venv",
   "language": "python",
   "name": "python3"
  },
  "language_info": {
   "codemirror_mode": {
    "name": "ipython",
    "version": 3
   },
   "file_extension": ".py",
   "mimetype": "text/x-python",
   "name": "python",
   "nbconvert_exporter": "python",
   "pygments_lexer": "ipython3",
   "version": "3.12.7"
  }
 },
 "nbformat": 4,
 "nbformat_minor": 2
}
