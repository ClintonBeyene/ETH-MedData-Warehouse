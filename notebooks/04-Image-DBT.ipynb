{
 "cells": [
  {
   "cell_type": "markdown",
   "metadata": {},
   "source": [
    "## "
   ]
  },
  {
   "cell_type": "code",
   "execution_count": 115,
   "metadata": {},
   "outputs": [],
   "source": [
    "import sys\n",
    "import os\n",
    "sys.path.append(os.path.join(os.path.abspath('..')))"
   ]
  },
  {
   "cell_type": "code",
   "execution_count": 116,
   "metadata": {},
   "outputs": [],
   "source": [
    "import pandas as pd\n",
    "from scripts.database import DbConn, DatabaseConn"
   ]
  },
  {
   "cell_type": "code",
   "execution_count": 117,
   "metadata": {},
   "outputs": [],
   "source": [
    "detected_image = pd.read_csv('../image/final_results/detected_images.csv')"
   ]
  },
  {
   "cell_type": "code",
   "execution_count": 118,
   "metadata": {},
   "outputs": [
    {
     "data": {
      "text/html": [
       "<div>\n",
       "<style scoped>\n",
       "    .dataframe tbody tr th:only-of-type {\n",
       "        vertical-align: middle;\n",
       "    }\n",
       "\n",
       "    .dataframe tbody tr th {\n",
       "        vertical-align: top;\n",
       "    }\n",
       "\n",
       "    .dataframe thead th {\n",
       "        text-align: right;\n",
       "    }\n",
       "</style>\n",
       "<table border=\"1\" class=\"dataframe\">\n",
       "  <thead>\n",
       "    <tr style=\"text-align: right;\">\n",
       "      <th></th>\n",
       "      <th>Image</th>\n",
       "      <th>xmin</th>\n",
       "      <th>ymin</th>\n",
       "      <th>xmax</th>\n",
       "      <th>ymax</th>\n",
       "      <th>confidence</th>\n",
       "      <th>class</th>\n",
       "    </tr>\n",
       "  </thead>\n",
       "  <tbody>\n",
       "    <tr>\n",
       "      <th>0</th>\n",
       "      <td>@lobelia4cosmetics_11062.jpg</td>\n",
       "      <td>183.597168</td>\n",
       "      <td>0.000000</td>\n",
       "      <td>1111.034180</td>\n",
       "      <td>1264.329590</td>\n",
       "      <td>0.976964</td>\n",
       "      <td>Foodpackage</td>\n",
       "    </tr>\n",
       "    <tr>\n",
       "      <th>1</th>\n",
       "      <td>@lobelia4cosmetics_11061.jpg</td>\n",
       "      <td>242.018066</td>\n",
       "      <td>0.000000</td>\n",
       "      <td>1087.031128</td>\n",
       "      <td>1280.000000</td>\n",
       "      <td>0.668643</td>\n",
       "      <td>Lotion_Moisturizers</td>\n",
       "    </tr>\n",
       "    <tr>\n",
       "      <th>2</th>\n",
       "      <td>@lobelia4cosmetics_11060.jpg</td>\n",
       "      <td>98.514877</td>\n",
       "      <td>11.680565</td>\n",
       "      <td>701.334839</td>\n",
       "      <td>606.288147</td>\n",
       "      <td>0.974131</td>\n",
       "      <td>Lotion_Moisturizers</td>\n",
       "    </tr>\n",
       "    <tr>\n",
       "      <th>3</th>\n",
       "      <td>@lobelia4cosmetics_11059.jpg</td>\n",
       "      <td>167.451294</td>\n",
       "      <td>0.384521</td>\n",
       "      <td>861.117920</td>\n",
       "      <td>1278.018555</td>\n",
       "      <td>0.897209</td>\n",
       "      <td>Lotion_Moisturizers</td>\n",
       "    </tr>\n",
       "    <tr>\n",
       "      <th>4</th>\n",
       "      <td>@lobelia4cosmetics_11058.jpg</td>\n",
       "      <td>420.406372</td>\n",
       "      <td>115.573479</td>\n",
       "      <td>686.156494</td>\n",
       "      <td>825.498718</td>\n",
       "      <td>0.952333</td>\n",
       "      <td>Supplement</td>\n",
       "    </tr>\n",
       "  </tbody>\n",
       "</table>\n",
       "</div>"
      ],
      "text/plain": [
       "                          Image        xmin        ymin         xmax  \\\n",
       "0  @lobelia4cosmetics_11062.jpg  183.597168    0.000000  1111.034180   \n",
       "1  @lobelia4cosmetics_11061.jpg  242.018066    0.000000  1087.031128   \n",
       "2  @lobelia4cosmetics_11060.jpg   98.514877   11.680565   701.334839   \n",
       "3  @lobelia4cosmetics_11059.jpg  167.451294    0.384521   861.117920   \n",
       "4  @lobelia4cosmetics_11058.jpg  420.406372  115.573479   686.156494   \n",
       "\n",
       "          ymax  confidence                class  \n",
       "0  1264.329590    0.976964          Foodpackage  \n",
       "1  1280.000000    0.668643  Lotion_Moisturizers  \n",
       "2   606.288147    0.974131  Lotion_Moisturizers  \n",
       "3  1278.018555    0.897209  Lotion_Moisturizers  \n",
       "4   825.498718    0.952333           Supplement  "
      ]
     },
     "execution_count": 118,
     "metadata": {},
     "output_type": "execute_result"
    }
   ],
   "source": [
    "detected_image.head()"
   ]
  },
  {
   "cell_type": "code",
   "execution_count": 119,
   "metadata": {},
   "outputs": [
    {
     "data": {
      "text/plain": [
       "(3128, 7)"
      ]
     },
     "execution_count": 119,
     "metadata": {},
     "output_type": "execute_result"
    }
   ],
   "source": [
    "detected_image.shape"
   ]
  },
  {
   "cell_type": "code",
   "execution_count": 120,
   "metadata": {},
   "outputs": [
    {
     "name": "stdout",
     "output_type": "stream",
     "text": [
      "Connected to database\n"
     ]
    },
    {
     "name": "stderr",
     "output_type": "stream",
     "text": [
      "c:\\Users\\Hp\\Desktop\\Kifiya\\week7\\ETH-MedData-Warehouse\\scripts\\database.py:53: UserWarning: pandas only supports SQLAlchemy connectable (engine/connection) or database string URI or sqlite3 DBAPI2 connection. Other DBAPI2 objects are not tested. Please consider using SQLAlchemy.\n",
      "  df = pd.read_sql_query(f\"SELECT * FROM {table_name}\", self.conn)\n"
     ]
    }
   ],
   "source": [
    "dbconn = DbConn()\n",
    "db_data = dbconn.read_data('lobeliapha_transformed')"
   ]
  },
  {
   "cell_type": "code",
   "execution_count": 121,
   "metadata": {},
   "outputs": [
    {
     "data": {
      "text/html": [
       "<div>\n",
       "<style scoped>\n",
       "    .dataframe tbody tr th:only-of-type {\n",
       "        vertical-align: middle;\n",
       "    }\n",
       "\n",
       "    .dataframe tbody tr th {\n",
       "        vertical-align: top;\n",
       "    }\n",
       "\n",
       "    .dataframe thead th {\n",
       "        text-align: right;\n",
       "    }\n",
       "</style>\n",
       "<table border=\"1\" class=\"dataframe\">\n",
       "  <thead>\n",
       "    <tr style=\"text-align: right;\">\n",
       "      <th></th>\n",
       "      <th>ID</th>\n",
       "      <th>date</th>\n",
       "      <th>product_name</th>\n",
       "      <th>weight</th>\n",
       "      <th>price</th>\n",
       "      <th>Telegram Address</th>\n",
       "      <th>address</th>\n",
       "      <th>Phone Number</th>\n",
       "      <th>Delivery Fee</th>\n",
       "      <th>Media Path</th>\n",
       "    </tr>\n",
       "  </thead>\n",
       "  <tbody>\n",
       "    <tr>\n",
       "      <th>0</th>\n",
       "      <td>12401</td>\n",
       "      <td>2024-10-10 14:47:05</td>\n",
       "      <td>sulfur8</td>\n",
       "      <td>205g</td>\n",
       "      <td>3000</td>\n",
       "      <td>https://t.me/lobelia4cosmetics</td>\n",
       "      <td>adress:- infront of bole medhanialem high school</td>\n",
       "      <td>0911562031</td>\n",
       "      <td>70 - 200 birr</td>\n",
       "      <td>photos\\@lobelia4cosmetics_12401.jpg</td>\n",
       "    </tr>\n",
       "    <tr>\n",
       "      <th>1</th>\n",
       "      <td>12380</td>\n",
       "      <td>2024-10-10 04:07:50</td>\n",
       "      <td>nido usa</td>\n",
       "      <td>2.2kg</td>\n",
       "      <td>5900</td>\n",
       "      <td>https://t.me/lobelia4cosmetics</td>\n",
       "      <td>adress:- infront of bole medhanialem high school</td>\n",
       "      <td>0911562031</td>\n",
       "      <td>70 - 200 birr</td>\n",
       "      <td>photos\\@lobelia4cosmetics_12380.jpg</td>\n",
       "    </tr>\n",
       "    <tr>\n",
       "      <th>2</th>\n",
       "      <td>12378</td>\n",
       "      <td>2024-10-10 04:07:50</td>\n",
       "      <td>nido usa</td>\n",
       "      <td>2.2kg</td>\n",
       "      <td>5900</td>\n",
       "      <td>https://t.me/lobelia4cosmetics</td>\n",
       "      <td>adress:- infront of bole medhanialem high school</td>\n",
       "      <td>0911562031</td>\n",
       "      <td>70 - 200 birr</td>\n",
       "      <td>photos\\@lobelia4cosmetics_12378.jpg</td>\n",
       "    </tr>\n",
       "    <tr>\n",
       "      <th>3</th>\n",
       "      <td>12367</td>\n",
       "      <td>2024-10-09 15:22:01</td>\n",
       "      <td>nido</td>\n",
       "      <td>1.8kg</td>\n",
       "      <td>4500</td>\n",
       "      <td>https://t.me/lobelia4cosmetics</td>\n",
       "      <td>adress:- infront of bole medhanialem high school</td>\n",
       "      <td>0911562031</td>\n",
       "      <td>70 - 200 birr</td>\n",
       "      <td>photos\\@lobelia4cosmetics_12367.jpg</td>\n",
       "    </tr>\n",
       "    <tr>\n",
       "      <th>4</th>\n",
       "      <td>12366</td>\n",
       "      <td>2024-10-09 12:44:53</td>\n",
       "      <td>sulfur8</td>\n",
       "      <td>205g</td>\n",
       "      <td>3000</td>\n",
       "      <td>https://t.me/lobelia4cosmetics</td>\n",
       "      <td>adress:- infront of bole medhanialem high school</td>\n",
       "      <td>0911562031</td>\n",
       "      <td>70 - 200 birr</td>\n",
       "      <td>photos\\@lobelia4cosmetics_12366.jpg</td>\n",
       "    </tr>\n",
       "  </tbody>\n",
       "</table>\n",
       "</div>"
      ],
      "text/plain": [
       "      ID                date product_name weight price  \\\n",
       "0  12401 2024-10-10 14:47:05      sulfur8   205g  3000   \n",
       "1  12380 2024-10-10 04:07:50     nido usa  2.2kg  5900   \n",
       "2  12378 2024-10-10 04:07:50     nido usa  2.2kg  5900   \n",
       "3  12367 2024-10-09 15:22:01         nido  1.8kg  4500   \n",
       "4  12366 2024-10-09 12:44:53      sulfur8   205g  3000   \n",
       "\n",
       "                 Telegram Address  \\\n",
       "0  https://t.me/lobelia4cosmetics   \n",
       "1  https://t.me/lobelia4cosmetics   \n",
       "2  https://t.me/lobelia4cosmetics   \n",
       "3  https://t.me/lobelia4cosmetics   \n",
       "4  https://t.me/lobelia4cosmetics   \n",
       "\n",
       "                                            address Phone Number  \\\n",
       "0  adress:- infront of bole medhanialem high school   0911562031   \n",
       "1  adress:- infront of bole medhanialem high school   0911562031   \n",
       "2  adress:- infront of bole medhanialem high school   0911562031   \n",
       "3  adress:- infront of bole medhanialem high school   0911562031   \n",
       "4  adress:- infront of bole medhanialem high school   0911562031   \n",
       "\n",
       "    Delivery Fee                           Media Path  \n",
       "0  70 - 200 birr  photos\\@lobelia4cosmetics_12401.jpg  \n",
       "1  70 - 200 birr  photos\\@lobelia4cosmetics_12380.jpg  \n",
       "2  70 - 200 birr  photos\\@lobelia4cosmetics_12378.jpg  \n",
       "3  70 - 200 birr  photos\\@lobelia4cosmetics_12367.jpg  \n",
       "4  70 - 200 birr  photos\\@lobelia4cosmetics_12366.jpg  "
      ]
     },
     "execution_count": 121,
     "metadata": {},
     "output_type": "execute_result"
    }
   ],
   "source": [
    "db_data = pd.DataFrame(db_data, columns=['ID', 'date', 'product_name', 'weight', 'price', 'Telegram Address', 'address', 'Phone Number', 'Delivery Fee', 'Media Path'])\n",
    "db_data.head()"
   ]
  },
  {
   "cell_type": "code",
   "execution_count": 122,
   "metadata": {},
   "outputs": [],
   "source": [
    "# A little preprocessing on address\n",
    "db_data['address'] = db_data['address'].str.strip().str.replace('adress:- ', '')"
   ]
  },
  {
   "cell_type": "code",
   "execution_count": 123,
   "metadata": {},
   "outputs": [
    {
     "data": {
      "text/html": [
       "<div>\n",
       "<style scoped>\n",
       "    .dataframe tbody tr th:only-of-type {\n",
       "        vertical-align: middle;\n",
       "    }\n",
       "\n",
       "    .dataframe tbody tr th {\n",
       "        vertical-align: top;\n",
       "    }\n",
       "\n",
       "    .dataframe thead th {\n",
       "        text-align: right;\n",
       "    }\n",
       "</style>\n",
       "<table border=\"1\" class=\"dataframe\">\n",
       "  <thead>\n",
       "    <tr style=\"text-align: right;\">\n",
       "      <th></th>\n",
       "      <th>ID</th>\n",
       "      <th>date</th>\n",
       "      <th>product_name</th>\n",
       "      <th>weight</th>\n",
       "      <th>price</th>\n",
       "      <th>Telegram Address</th>\n",
       "      <th>address</th>\n",
       "      <th>Phone Number</th>\n",
       "      <th>Delivery Fee</th>\n",
       "      <th>Media Path</th>\n",
       "    </tr>\n",
       "  </thead>\n",
       "  <tbody>\n",
       "    <tr>\n",
       "      <th>0</th>\n",
       "      <td>12401</td>\n",
       "      <td>2024-10-10 14:47:05</td>\n",
       "      <td>sulfur8</td>\n",
       "      <td>205g</td>\n",
       "      <td>3000</td>\n",
       "      <td>https://t.me/lobelia4cosmetics</td>\n",
       "      <td>infront of bole medhanialem high school</td>\n",
       "      <td>0911562031</td>\n",
       "      <td>70 - 200 birr</td>\n",
       "      <td>photos\\@lobelia4cosmetics_12401.jpg</td>\n",
       "    </tr>\n",
       "    <tr>\n",
       "      <th>1</th>\n",
       "      <td>12380</td>\n",
       "      <td>2024-10-10 04:07:50</td>\n",
       "      <td>nido usa</td>\n",
       "      <td>2.2kg</td>\n",
       "      <td>5900</td>\n",
       "      <td>https://t.me/lobelia4cosmetics</td>\n",
       "      <td>infront of bole medhanialem high school</td>\n",
       "      <td>0911562031</td>\n",
       "      <td>70 - 200 birr</td>\n",
       "      <td>photos\\@lobelia4cosmetics_12380.jpg</td>\n",
       "    </tr>\n",
       "    <tr>\n",
       "      <th>2</th>\n",
       "      <td>12378</td>\n",
       "      <td>2024-10-10 04:07:50</td>\n",
       "      <td>nido usa</td>\n",
       "      <td>2.2kg</td>\n",
       "      <td>5900</td>\n",
       "      <td>https://t.me/lobelia4cosmetics</td>\n",
       "      <td>infront of bole medhanialem high school</td>\n",
       "      <td>0911562031</td>\n",
       "      <td>70 - 200 birr</td>\n",
       "      <td>photos\\@lobelia4cosmetics_12378.jpg</td>\n",
       "    </tr>\n",
       "    <tr>\n",
       "      <th>3</th>\n",
       "      <td>12367</td>\n",
       "      <td>2024-10-09 15:22:01</td>\n",
       "      <td>nido</td>\n",
       "      <td>1.8kg</td>\n",
       "      <td>4500</td>\n",
       "      <td>https://t.me/lobelia4cosmetics</td>\n",
       "      <td>infront of bole medhanialem high school</td>\n",
       "      <td>0911562031</td>\n",
       "      <td>70 - 200 birr</td>\n",
       "      <td>photos\\@lobelia4cosmetics_12367.jpg</td>\n",
       "    </tr>\n",
       "    <tr>\n",
       "      <th>4</th>\n",
       "      <td>12366</td>\n",
       "      <td>2024-10-09 12:44:53</td>\n",
       "      <td>sulfur8</td>\n",
       "      <td>205g</td>\n",
       "      <td>3000</td>\n",
       "      <td>https://t.me/lobelia4cosmetics</td>\n",
       "      <td>infront of bole medhanialem high school</td>\n",
       "      <td>0911562031</td>\n",
       "      <td>70 - 200 birr</td>\n",
       "      <td>photos\\@lobelia4cosmetics_12366.jpg</td>\n",
       "    </tr>\n",
       "  </tbody>\n",
       "</table>\n",
       "</div>"
      ],
      "text/plain": [
       "      ID                date product_name weight price  \\\n",
       "0  12401 2024-10-10 14:47:05      sulfur8   205g  3000   \n",
       "1  12380 2024-10-10 04:07:50     nido usa  2.2kg  5900   \n",
       "2  12378 2024-10-10 04:07:50     nido usa  2.2kg  5900   \n",
       "3  12367 2024-10-09 15:22:01         nido  1.8kg  4500   \n",
       "4  12366 2024-10-09 12:44:53      sulfur8   205g  3000   \n",
       "\n",
       "                 Telegram Address                                  address  \\\n",
       "0  https://t.me/lobelia4cosmetics  infront of bole medhanialem high school   \n",
       "1  https://t.me/lobelia4cosmetics  infront of bole medhanialem high school   \n",
       "2  https://t.me/lobelia4cosmetics  infront of bole medhanialem high school   \n",
       "3  https://t.me/lobelia4cosmetics  infront of bole medhanialem high school   \n",
       "4  https://t.me/lobelia4cosmetics  infront of bole medhanialem high school   \n",
       "\n",
       "  Phone Number   Delivery Fee                           Media Path  \n",
       "0   0911562031  70 - 200 birr  photos\\@lobelia4cosmetics_12401.jpg  \n",
       "1   0911562031  70 - 200 birr  photos\\@lobelia4cosmetics_12380.jpg  \n",
       "2   0911562031  70 - 200 birr  photos\\@lobelia4cosmetics_12378.jpg  \n",
       "3   0911562031  70 - 200 birr  photos\\@lobelia4cosmetics_12367.jpg  \n",
       "4   0911562031  70 - 200 birr  photos\\@lobelia4cosmetics_12366.jpg  "
      ]
     },
     "execution_count": 123,
     "metadata": {},
     "output_type": "execute_result"
    }
   ],
   "source": [
    "db_data.head()"
   ]
  },
  {
   "cell_type": "code",
   "execution_count": 124,
   "metadata": {},
   "outputs": [],
   "source": [
    "# Extracting ID from the detection results table to create relation with other tables\n",
    "detected_image['ID'] = detected_image['Image'].apply(lambda x: x.split('_')[1].split('.')[0])\n",
    "detected_image.loc[:, 'ID'] = detected_image['ID'].astype(str)\n",
    "detected_images = detected_image.drop_duplicates(subset=['ID'], keep='first')"
   ]
  },
  {
   "cell_type": "code",
   "execution_count": 125,
   "metadata": {},
   "outputs": [
    {
     "data": {
      "text/html": [
       "<div>\n",
       "<style scoped>\n",
       "    .dataframe tbody tr th:only-of-type {\n",
       "        vertical-align: middle;\n",
       "    }\n",
       "\n",
       "    .dataframe tbody tr th {\n",
       "        vertical-align: top;\n",
       "    }\n",
       "\n",
       "    .dataframe thead th {\n",
       "        text-align: right;\n",
       "    }\n",
       "</style>\n",
       "<table border=\"1\" class=\"dataframe\">\n",
       "  <thead>\n",
       "    <tr style=\"text-align: right;\">\n",
       "      <th></th>\n",
       "      <th>Image</th>\n",
       "      <th>xmin</th>\n",
       "      <th>ymin</th>\n",
       "      <th>xmax</th>\n",
       "      <th>ymax</th>\n",
       "      <th>confidence</th>\n",
       "      <th>class</th>\n",
       "      <th>ID</th>\n",
       "    </tr>\n",
       "  </thead>\n",
       "  <tbody>\n",
       "    <tr>\n",
       "      <th>0</th>\n",
       "      <td>@lobelia4cosmetics_11062.jpg</td>\n",
       "      <td>183.597168</td>\n",
       "      <td>0.000000</td>\n",
       "      <td>1111.034180</td>\n",
       "      <td>1264.329590</td>\n",
       "      <td>0.976964</td>\n",
       "      <td>Foodpackage</td>\n",
       "      <td>11062</td>\n",
       "    </tr>\n",
       "    <tr>\n",
       "      <th>1</th>\n",
       "      <td>@lobelia4cosmetics_11061.jpg</td>\n",
       "      <td>242.018066</td>\n",
       "      <td>0.000000</td>\n",
       "      <td>1087.031128</td>\n",
       "      <td>1280.000000</td>\n",
       "      <td>0.668643</td>\n",
       "      <td>Lotion_Moisturizers</td>\n",
       "      <td>11061</td>\n",
       "    </tr>\n",
       "    <tr>\n",
       "      <th>2</th>\n",
       "      <td>@lobelia4cosmetics_11060.jpg</td>\n",
       "      <td>98.514877</td>\n",
       "      <td>11.680565</td>\n",
       "      <td>701.334839</td>\n",
       "      <td>606.288147</td>\n",
       "      <td>0.974131</td>\n",
       "      <td>Lotion_Moisturizers</td>\n",
       "      <td>11060</td>\n",
       "    </tr>\n",
       "    <tr>\n",
       "      <th>3</th>\n",
       "      <td>@lobelia4cosmetics_11059.jpg</td>\n",
       "      <td>167.451294</td>\n",
       "      <td>0.384521</td>\n",
       "      <td>861.117920</td>\n",
       "      <td>1278.018555</td>\n",
       "      <td>0.897209</td>\n",
       "      <td>Lotion_Moisturizers</td>\n",
       "      <td>11059</td>\n",
       "    </tr>\n",
       "    <tr>\n",
       "      <th>4</th>\n",
       "      <td>@lobelia4cosmetics_11058.jpg</td>\n",
       "      <td>420.406372</td>\n",
       "      <td>115.573479</td>\n",
       "      <td>686.156494</td>\n",
       "      <td>825.498718</td>\n",
       "      <td>0.952333</td>\n",
       "      <td>Supplement</td>\n",
       "      <td>11058</td>\n",
       "    </tr>\n",
       "  </tbody>\n",
       "</table>\n",
       "</div>"
      ],
      "text/plain": [
       "                          Image        xmin        ymin         xmax  \\\n",
       "0  @lobelia4cosmetics_11062.jpg  183.597168    0.000000  1111.034180   \n",
       "1  @lobelia4cosmetics_11061.jpg  242.018066    0.000000  1087.031128   \n",
       "2  @lobelia4cosmetics_11060.jpg   98.514877   11.680565   701.334839   \n",
       "3  @lobelia4cosmetics_11059.jpg  167.451294    0.384521   861.117920   \n",
       "4  @lobelia4cosmetics_11058.jpg  420.406372  115.573479   686.156494   \n",
       "\n",
       "          ymax  confidence                class     ID  \n",
       "0  1264.329590    0.976964          Foodpackage  11062  \n",
       "1  1280.000000    0.668643  Lotion_Moisturizers  11061  \n",
       "2   606.288147    0.974131  Lotion_Moisturizers  11060  \n",
       "3  1278.018555    0.897209  Lotion_Moisturizers  11059  \n",
       "4   825.498718    0.952333           Supplement  11058  "
      ]
     },
     "execution_count": 125,
     "metadata": {},
     "output_type": "execute_result"
    }
   ],
   "source": [
    "detected_images.head()"
   ]
  },
  {
   "cell_type": "code",
   "execution_count": 126,
   "metadata": {},
   "outputs": [
    {
     "name": "stdout",
     "output_type": "stream",
     "text": [
      "object\n",
      "object\n",
      "<class 'numpy.ndarray'>\n"
     ]
    }
   ],
   "source": [
    "print(detected_images['ID'].dtype)  # Check data type of ID in detected_images\n",
    "print(db_data['ID'].dtype)  # Check data type of ID in db_data\n",
    "Ids = detected_images['ID'].values\n",
    "print(type(Ids))  # Check data type of Ids"
   ]
  },
  {
   "cell_type": "code",
   "execution_count": 127,
   "metadata": {},
   "outputs": [],
   "source": [
    "product_cols = ['product_name', 'weight', 'price', 'address', 'Phone Number', 'ID']\n",
    "telegram_cols = ['date', 'Telegram Address', 'Media Path', 'ID']"
   ]
  },
  {
   "cell_type": "code",
   "execution_count": 128,
   "metadata": {},
   "outputs": [],
   "source": [
    "Products = db_data[product_cols][db_data['ID'].isin(detected_images['ID'].values)]\n",
    "Products.set_index('ID', inplace=True)"
   ]
  },
  {
   "cell_type": "code",
   "execution_count": 129,
   "metadata": {},
   "outputs": [],
   "source": [
    "Telegram = db_data[telegram_cols][db_data['ID'].isin(detected_images['ID'].values)]\n",
    "Telegram.set_index('ID', inplace=True)"
   ]
  },
  {
   "cell_type": "code",
   "execution_count": 130,
   "metadata": {},
   "outputs": [],
   "source": [
    "Ids = Products.index\n",
    "detected_images = detected_images[detected_images['ID'].isin(Ids)]\n",
    "detected_images.set_index('ID', inplace=True)"
   ]
  },
  {
   "cell_type": "code",
   "execution_count": 131,
   "metadata": {},
   "outputs": [],
   "source": [
    "# Rename product table columns\n",
    "Products.columns = ['Product', 'Prescription', 'Price', 'Address', 'PhoneNumber'] \n",
    "# Rename Telegram Table Columns\n",
    "Telegram.columns = ['Date', 'Channel_username', 'Media_path']"
   ]
  },
  {
   "cell_type": "code",
   "execution_count": 132,
   "metadata": {},
   "outputs": [],
   "source": [
    "detected_images.columns = ['Image', 'x_min', 'y_min', 'x_max', 'y_max', 'confidence', 'label']"
   ]
  },
  {
   "cell_type": "code",
   "execution_count": 133,
   "metadata": {},
   "outputs": [
    {
     "data": {
      "text/plain": [
       "((470, 5), (470, 7), (470, 3))"
      ]
     },
     "execution_count": 133,
     "metadata": {},
     "output_type": "execute_result"
    }
   ],
   "source": [
    "Products.shape, detected_images.shape, Telegram.shape"
   ]
  },
  {
   "cell_type": "code",
   "execution_count": 134,
   "metadata": {},
   "outputs": [],
   "source": [
    "Products = Products.reset_index()\n",
    "Telegram = Telegram.reset_index()\n",
    "detected_images = detected_images.reset_index()"
   ]
  },
  {
   "cell_type": "code",
   "execution_count": 135,
   "metadata": {},
   "outputs": [],
   "source": [
    "# Convert columns to desired types\n",
    "Products['Product'] = Products['Product'].astype(str)\n",
    "Products['Prescription'] = Products['Prescription'].astype(str)\n",
    "Products['Price'] = Products['Price'].astype(int)\n",
    "Products['Address'] = Products['Address'].astype(str)\n",
    "Products['PhoneNumber'] = Products['PhoneNumber'].astype(str)\n",
    "Products['ID'] = Products['ID'].astype(int)\n",
    "Telegram['ID'] = Telegram['ID'].astype(int)\n",
    "detected_images['ID'] = detected_images['ID'].astype(int)"
   ]
  },
  {
   "cell_type": "code",
   "execution_count": 137,
   "metadata": {},
   "outputs": [
    {
     "name": "stdout",
     "output_type": "stream",
     "text": [
      "<class 'pandas.core.frame.DataFrame'>\n",
      "RangeIndex: 470 entries, 0 to 469\n",
      "Data columns (total 8 columns):\n",
      " #   Column      Non-Null Count  Dtype  \n",
      "---  ------      --------------  -----  \n",
      " 0   ID          470 non-null    int64  \n",
      " 1   Image       470 non-null    object \n",
      " 2   x_min       470 non-null    float64\n",
      " 3   y_min       470 non-null    float64\n",
      " 4   x_max       470 non-null    float64\n",
      " 5   y_max       470 non-null    float64\n",
      " 6   confidence  470 non-null    float64\n",
      " 7   label       470 non-null    object \n",
      "dtypes: float64(5), int64(1), object(2)\n",
      "memory usage: 29.5+ KB\n"
     ]
    }
   ],
   "source": [
    "detected_images.info()"
   ]
  },
  {
   "cell_type": "code",
   "execution_count": 136,
   "metadata": {},
   "outputs": [
    {
     "name": "stdout",
     "output_type": "stream",
     "text": [
      "Connected to database using SQLAlchemy\n"
     ]
    }
   ],
   "source": [
    "databaseConn = DatabaseConn()\n",
    "databaseConn.insert_dataframe_data('Products', Products)\n",
    "databaseConn.insert_dataframe_data('Telegram', Telegram)\n",
    "databaseConn.insert_dataframe_data('detected_images', detected_images)"
   ]
  }
 ],
 "metadata": {
  "kernelspec": {
   "display_name": "venv",
   "language": "python",
   "name": "python3"
  },
  "language_info": {
   "codemirror_mode": {
    "name": "ipython",
    "version": 3
   },
   "file_extension": ".py",
   "mimetype": "text/x-python",
   "name": "python",
   "nbconvert_exporter": "python",
   "pygments_lexer": "ipython3",
   "version": "3.12.7"
  }
 },
 "nbformat": 4,
 "nbformat_minor": 2
}
